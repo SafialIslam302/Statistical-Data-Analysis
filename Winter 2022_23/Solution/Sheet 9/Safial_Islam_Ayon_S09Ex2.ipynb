{
 "cells": [
  {
   "cell_type": "code",
   "execution_count": 1,
   "id": "692607b4",
   "metadata": {},
   "outputs": [],
   "source": [
    "import numpy as np\n",
    "import pandas as pd\n",
    "import matplotlib.pyplot as plt\n",
    "from sklearn import datasets\n",
    "import plotly.express as px\n",
    "from sklearn.decomposition import PCA\n",
    "from pylab import *\n",
    "import pylab as pl\n",
    "%matplotlib inline\n",
    "import seaborn as sns\n",
    "from itertools import cycle\n",
    "from sklearn.preprocessing import StandardScaler"
   ]
  },
  {
   "cell_type": "code",
   "execution_count": 2,
   "id": "8ad244c0",
   "metadata": {},
   "outputs": [],
   "source": [
    "#import iris dataset from sklearn\n",
    "iris = datasets.load_iris()"
   ]
  },
  {
   "cell_type": "code",
   "execution_count": 3,
   "id": "5f9b8f66",
   "metadata": {},
   "outputs": [
    {
     "data": {
      "text/plain": [
       "['sepal length (cm)',\n",
       " 'sepal width (cm)',\n",
       " 'petal length (cm)',\n",
       " 'petal width (cm)']"
      ]
     },
     "execution_count": 3,
     "metadata": {},
     "output_type": "execute_result"
    }
   ],
   "source": [
    "#features in the iris dataset\n",
    "iris.feature_names"
   ]
  },
  {
   "cell_type": "code",
   "execution_count": 4,
   "id": "5d6441d5",
   "metadata": {},
   "outputs": [
    {
     "data": {
      "text/plain": [
       "array(['setosa', 'versicolor', 'virginica'], dtype='<U10')"
      ]
     },
     "execution_count": 4,
     "metadata": {},
     "output_type": "execute_result"
    }
   ],
   "source": [
    "#target in the iris dataset\n",
    "iris.target_names"
   ]
  },
  {
   "cell_type": "code",
   "execution_count": 5,
   "id": "5475a708",
   "metadata": {},
   "outputs": [],
   "source": [
    "#update X,y from iris dataset\n",
    "X = iris.data\n",
    "y = iris.target"
   ]
  },
  {
   "cell_type": "code",
   "execution_count": 6,
   "id": "671537cf",
   "metadata": {},
   "outputs": [
    {
     "data": {
      "text/html": [
       "<div>\n",
       "<style scoped>\n",
       "    .dataframe tbody tr th:only-of-type {\n",
       "        vertical-align: middle;\n",
       "    }\n",
       "\n",
       "    .dataframe tbody tr th {\n",
       "        vertical-align: top;\n",
       "    }\n",
       "\n",
       "    .dataframe thead th {\n",
       "        text-align: right;\n",
       "    }\n",
       "</style>\n",
       "<table border=\"1\" class=\"dataframe\">\n",
       "  <thead>\n",
       "    <tr style=\"text-align: right;\">\n",
       "      <th></th>\n",
       "      <th>sepal length (cm)</th>\n",
       "      <th>sepal width (cm)</th>\n",
       "      <th>petal length (cm)</th>\n",
       "      <th>petal width (cm)</th>\n",
       "    </tr>\n",
       "  </thead>\n",
       "  <tbody>\n",
       "    <tr>\n",
       "      <th>0</th>\n",
       "      <td>5.1</td>\n",
       "      <td>3.5</td>\n",
       "      <td>1.4</td>\n",
       "      <td>0.2</td>\n",
       "    </tr>\n",
       "    <tr>\n",
       "      <th>1</th>\n",
       "      <td>4.9</td>\n",
       "      <td>3.0</td>\n",
       "      <td>1.4</td>\n",
       "      <td>0.2</td>\n",
       "    </tr>\n",
       "    <tr>\n",
       "      <th>2</th>\n",
       "      <td>4.7</td>\n",
       "      <td>3.2</td>\n",
       "      <td>1.3</td>\n",
       "      <td>0.2</td>\n",
       "    </tr>\n",
       "    <tr>\n",
       "      <th>3</th>\n",
       "      <td>4.6</td>\n",
       "      <td>3.1</td>\n",
       "      <td>1.5</td>\n",
       "      <td>0.2</td>\n",
       "    </tr>\n",
       "    <tr>\n",
       "      <th>4</th>\n",
       "      <td>5.0</td>\n",
       "      <td>3.6</td>\n",
       "      <td>1.4</td>\n",
       "      <td>0.2</td>\n",
       "    </tr>\n",
       "  </tbody>\n",
       "</table>\n",
       "</div>"
      ],
      "text/plain": [
       "   sepal length (cm)  sepal width (cm)  petal length (cm)  petal width (cm)\n",
       "0                5.1               3.5                1.4               0.2\n",
       "1                4.9               3.0                1.4               0.2\n",
       "2                4.7               3.2                1.3               0.2\n",
       "3                4.6               3.1                1.5               0.2\n",
       "4                5.0               3.6                1.4               0.2"
      ]
     },
     "execution_count": 6,
     "metadata": {},
     "output_type": "execute_result"
    }
   ],
   "source": [
    "#create dataframe using X,y\n",
    "df = pd.DataFrame(X,columns=iris.feature_names)\n",
    "\n",
    "#check header of the created dataframe\n",
    "df.head()"
   ]
  },
  {
   "cell_type": "code",
   "execution_count": 7,
   "id": "f68991f4",
   "metadata": {},
   "outputs": [],
   "source": [
    "#append target into dataframe\n",
    "df['target'] = iris.target"
   ]
  },
  {
   "cell_type": "code",
   "execution_count": 8,
   "id": "0219d2ba",
   "metadata": {},
   "outputs": [
    {
     "data": {
      "text/html": [
       "<div>\n",
       "<style scoped>\n",
       "    .dataframe tbody tr th:only-of-type {\n",
       "        vertical-align: middle;\n",
       "    }\n",
       "\n",
       "    .dataframe tbody tr th {\n",
       "        vertical-align: top;\n",
       "    }\n",
       "\n",
       "    .dataframe thead th {\n",
       "        text-align: right;\n",
       "    }\n",
       "</style>\n",
       "<table border=\"1\" class=\"dataframe\">\n",
       "  <thead>\n",
       "    <tr style=\"text-align: right;\">\n",
       "      <th></th>\n",
       "      <th>sepal_length</th>\n",
       "      <th>sepal_width</th>\n",
       "      <th>petal_lenth</th>\n",
       "      <th>petal_width</th>\n",
       "      <th>target</th>\n",
       "    </tr>\n",
       "  </thead>\n",
       "  <tbody>\n",
       "    <tr>\n",
       "      <th>0</th>\n",
       "      <td>5.1</td>\n",
       "      <td>3.5</td>\n",
       "      <td>1.4</td>\n",
       "      <td>0.2</td>\n",
       "      <td>0</td>\n",
       "    </tr>\n",
       "    <tr>\n",
       "      <th>1</th>\n",
       "      <td>4.9</td>\n",
       "      <td>3.0</td>\n",
       "      <td>1.4</td>\n",
       "      <td>0.2</td>\n",
       "      <td>0</td>\n",
       "    </tr>\n",
       "    <tr>\n",
       "      <th>2</th>\n",
       "      <td>4.7</td>\n",
       "      <td>3.2</td>\n",
       "      <td>1.3</td>\n",
       "      <td>0.2</td>\n",
       "      <td>0</td>\n",
       "    </tr>\n",
       "    <tr>\n",
       "      <th>3</th>\n",
       "      <td>4.6</td>\n",
       "      <td>3.1</td>\n",
       "      <td>1.5</td>\n",
       "      <td>0.2</td>\n",
       "      <td>0</td>\n",
       "    </tr>\n",
       "    <tr>\n",
       "      <th>4</th>\n",
       "      <td>5.0</td>\n",
       "      <td>3.6</td>\n",
       "      <td>1.4</td>\n",
       "      <td>0.2</td>\n",
       "      <td>0</td>\n",
       "    </tr>\n",
       "  </tbody>\n",
       "</table>\n",
       "</div>"
      ],
      "text/plain": [
       "   sepal_length  sepal_width  petal_lenth  petal_width  target\n",
       "0           5.1          3.5          1.4          0.2       0\n",
       "1           4.9          3.0          1.4          0.2       0\n",
       "2           4.7          3.2          1.3          0.2       0\n",
       "3           4.6          3.1          1.5          0.2       0\n",
       "4           5.0          3.6          1.4          0.2       0"
      ]
     },
     "execution_count": 8,
     "metadata": {},
     "output_type": "execute_result"
    }
   ],
   "source": [
    "df.columns=['sepal_length', 'sepal_width', 'petal_lenth', 'petal_width', 'target']\n",
    "df.head()"
   ]
  },
  {
   "cell_type": "code",
   "execution_count": 9,
   "id": "1983090b",
   "metadata": {},
   "outputs": [
    {
     "data": {
      "image/png": "[encoded data removed]",
      "text/plain": [
       "<Figure size 432x288 with 1 Axes>"
      ]
     },
     "metadata": {
      "needs_background": "light"
     },
     "output_type": "display_data"
    }
   ],
   "source": [
    "sns.scatterplot(x = df.sepal_length, y = df.sepal_width, hue = df.target, style = df.target);"
   ]
  },
  {
   "cell_type": "markdown",
   "id": "c9d90929",
   "metadata": {},
   "source": [
    "### Standardize the Data"
   ]
  },
  {
   "cell_type": "code",
   "execution_count": 10,
   "id": "84bf2b92",
   "metadata": {},
   "outputs": [],
   "source": [
    "x_temp = df.iloc[:, 0:4].values \n",
    "y_temp = df.target.values \n",
    "\n",
    "x_temp = StandardScaler().fit_transform(x_temp)"
   ]
  },
  {
   "cell_type": "markdown",
   "id": "0fe5ac31",
   "metadata": {},
   "source": [
    "### 2D representation of the data"
   ]
  },
  {
   "cell_type": "code",
   "execution_count": 11,
   "id": "54682e7a",
   "metadata": {},
   "outputs": [
    {
     "data": {
      "image/png": "[encoded data removed]",
      "text/plain": [
       "<Figure size 432x288 with 1 Axes>"
      ]
     },
     "metadata": {
      "needs_background": "light"
     },
     "output_type": "display_data"
    }
   ],
   "source": [
    "colors = cycle('rgb')\n",
    "target_ids = range(len(iris.target_names))\n",
    "pl.figure()\n",
    "for i, c, label in zip(target_ids, colors, iris.target_names):\n",
    "    pl.scatter(x_temp[iris.target == i, 0], x_temp[iris.target == i, 0],\n",
    "        c=c, label=label)\n",
    "pl.legend()\n",
    "pl.show()"
   ]
  },
  {
   "cell_type": "markdown",
   "id": "c59b173f",
   "metadata": {},
   "source": [
    "The three different types of Iris are still clustered pretty well."
   ]
  },
  {
   "cell_type": "markdown",
   "id": "1d75d4a1",
   "metadata": {},
   "source": [
    "### Compute the Eigenvectors and Eigenvalues"
   ]
  },
  {
   "cell_type": "code",
   "execution_count": 12,
   "id": "602f2b5b",
   "metadata": {},
   "outputs": [
    {
     "name": "stdout",
     "output_type": "stream",
     "text": [
      "Covariance matrix:\n",
      " [[ 1.00671141 -0.11835884  0.87760447  0.82343066]\n",
      " [-0.11835884  1.00671141 -0.43131554 -0.36858315]\n",
      " [ 0.87760447 -0.43131554  1.00671141  0.96932762]\n",
      " [ 0.82343066 -0.36858315  0.96932762  1.00671141]]\n"
     ]
    }
   ],
   "source": [
    "covariance_matrix = np.cov(x_temp.T)\n",
    "print(\"Covariance matrix:\\n\", covariance_matrix)"
   ]
  },
  {
   "cell_type": "code",
   "execution_count": 13,
   "id": "d34b3c6e",
   "metadata": {},
   "outputs": [
    {
     "name": "stdout",
     "output_type": "stream",
     "text": [
      "Eigenvectors:\n",
      " [[ 0.52106591 -0.37741762 -0.71956635  0.26128628]\n",
      " [-0.26934744 -0.92329566  0.24438178 -0.12350962]\n",
      " [ 0.5804131  -0.02449161  0.14212637 -0.80144925]\n",
      " [ 0.56485654 -0.06694199  0.63427274  0.52359713]] \n",
      "\n",
      "Eigenvalues:\n",
      " [2.93808505 0.9201649  0.14774182 0.02085386]\n"
     ]
    }
   ],
   "source": [
    "eigen_values, eigen_vectors = np.linalg.eig(covariance_matrix)\n",
    "print(\"Eigenvectors:\\n\", eigen_vectors, \"\\n\")\n",
    "print(\"Eigenvalues:\\n\", eigen_values)"
   ]
  },
  {
   "cell_type": "markdown",
   "id": "a956c394",
   "metadata": {},
   "source": [
    "## PCA for transformation into 2D data and visualization"
   ]
  },
  {
   "cell_type": "code",
   "execution_count": 14,
   "id": "149d4c50",
   "metadata": {},
   "outputs": [
    {
     "data": {
      "text/html": [
       "<div>\n",
       "<style scoped>\n",
       "    .dataframe tbody tr th:only-of-type {\n",
       "        vertical-align: middle;\n",
       "    }\n",
       "\n",
       "    .dataframe tbody tr th {\n",
       "        vertical-align: top;\n",
       "    }\n",
       "\n",
       "    .dataframe thead th {\n",
       "        text-align: right;\n",
       "    }\n",
       "</style>\n",
       "<table border=\"1\" class=\"dataframe\">\n",
       "  <thead>\n",
       "    <tr style=\"text-align: right;\">\n",
       "      <th></th>\n",
       "      <th>principal component 1</th>\n",
       "      <th>principal component 2</th>\n",
       "      <th>target</th>\n",
       "    </tr>\n",
       "  </thead>\n",
       "  <tbody>\n",
       "    <tr>\n",
       "      <th>0</th>\n",
       "      <td>-2.684126</td>\n",
       "      <td>0.319397</td>\n",
       "      <td>0</td>\n",
       "    </tr>\n",
       "    <tr>\n",
       "      <th>1</th>\n",
       "      <td>-2.714142</td>\n",
       "      <td>-0.177001</td>\n",
       "      <td>0</td>\n",
       "    </tr>\n",
       "    <tr>\n",
       "      <th>2</th>\n",
       "      <td>-2.888991</td>\n",
       "      <td>-0.144949</td>\n",
       "      <td>0</td>\n",
       "    </tr>\n",
       "    <tr>\n",
       "      <th>3</th>\n",
       "      <td>-2.745343</td>\n",
       "      <td>-0.318299</td>\n",
       "      <td>0</td>\n",
       "    </tr>\n",
       "    <tr>\n",
       "      <th>4</th>\n",
       "      <td>-2.728717</td>\n",
       "      <td>0.326755</td>\n",
       "      <td>0</td>\n",
       "    </tr>\n",
       "  </tbody>\n",
       "</table>\n",
       "</div>"
      ],
      "text/plain": [
       "   principal component 1  principal component 2  target\n",
       "0              -2.684126               0.319397       0\n",
       "1              -2.714142              -0.177001       0\n",
       "2              -2.888991              -0.144949       0\n",
       "3              -2.745343              -0.318299       0\n",
       "4              -2.728717               0.326755       0"
      ]
     },
     "execution_count": 14,
     "metadata": {},
     "output_type": "execute_result"
    }
   ],
   "source": [
    "#Apply PCA to transform iris dataset into 2D for visuallization\n",
    "pca2 = PCA(n_components=2)\n",
    "principalComponents2 = pca2.fit_transform(X)\n",
    "principalDf2 = pd.DataFrame(data = principalComponents2, columns = ['principal component 1', 'principal component 2'])\n",
    "finalDf2 = pd.concat([principalDf2, df[['target']]], axis = 1)\n",
    "finalDf2.head(5)"
   ]
  },
  {
   "cell_type": "code",
   "execution_count": 15,
   "id": "f6581d96",
   "metadata": {},
   "outputs": [
    {
     "name": "stdout",
     "output_type": "stream",
     "text": [
      "components_ in the data transformed to 2D : \n",
      "[[ 0.36138659 -0.08452251  0.85667061  0.3582892 ]\n",
      " [ 0.65658877  0.73016143 -0.17337266 -0.07548102]]\n",
      "\n",
      "explained_variance_ in the data transformed to 2D : \n",
      "[4.22824171 0.24267075]\n",
      "\n",
      "score in the data transformed to 2D : \n",
      "-2.699796510675664\n"
     ]
    }
   ],
   "source": [
    "#check the statistical values of the model transformed from 4D to 2D\n",
    "print(f\"components_ in the data transformed to 2D : \\n{pca2.components_}\\n\")\n",
    "print(f\"explained_variance_ in the data transformed to 2D : \\n{pca2.explained_variance_}\\n\")\n",
    "print(f\"score in the data transformed to 2D : \\n{pca2.score(X)}\")"
   ]
  },
  {
   "cell_type": "code",
   "execution_count": 16,
   "id": "69f970ee",
   "metadata": {},
   "outputs": [
    {
     "data": {
      "image/png": "[encoded data removed]",
      "text/plain": [
       "<Figure size 864x576 with 1 Axes>"
      ]
     },
     "metadata": {
      "needs_background": "light"
     },
     "output_type": "display_data"
    }
   ],
   "source": [
    "#Visualize the data into 2D\n",
    "fig = plt.figure(figsize = (12,8))\n",
    "ax = fig.add_subplot(1,1,1) \n",
    "ax.set_xlabel('Principal Component 1', fontsize = 15)\n",
    "ax.set_ylabel('Principal Component 2', fontsize = 15)\n",
    "ax.set_title('2 Component PCA', fontsize = 20)\n",
    "\n",
    "\n",
    "#targets = ['Iris-setosa', 'Iris-versicolor', 'Iris-virginica']\n",
    "targets = [0,1,2]\n",
    "colors = ['r', 'g', 'b']\n",
    "for target, color in zip(targets,colors):\n",
    "    indicesToKeep = finalDf2['target'] == target\n",
    "    ax.scatter(finalDf2.loc[indicesToKeep, 'principal component 1']\n",
    "               , finalDf2.loc[indicesToKeep, 'principal component 2']\n",
    "               , c = color\n",
    "               , s = 50)\n",
    "ax.legend(targets)\n",
    "ax.grid()"
   ]
  },
  {
   "cell_type": "code",
   "execution_count": 17,
   "id": "5ae0261b",
   "metadata": {},
   "outputs": [
    {
     "data": {
      "text/html": [
       "<div>\n",
       "<style scoped>\n",
       "    .dataframe tbody tr th:only-of-type {\n",
       "        vertical-align: middle;\n",
       "    }\n",
       "\n",
       "    .dataframe tbody tr th {\n",
       "        vertical-align: top;\n",
       "    }\n",
       "\n",
       "    .dataframe thead th {\n",
       "        text-align: right;\n",
       "    }\n",
       "</style>\n",
       "<table border=\"1\" class=\"dataframe\">\n",
       "  <thead>\n",
       "    <tr style=\"text-align: right;\">\n",
       "      <th></th>\n",
       "      <th>principal component 1</th>\n",
       "      <th>principal component 2</th>\n",
       "      <th>principal component 2</th>\n",
       "      <th>target</th>\n",
       "    </tr>\n",
       "  </thead>\n",
       "  <tbody>\n",
       "    <tr>\n",
       "      <th>0</th>\n",
       "      <td>-2.684126</td>\n",
       "      <td>0.319397</td>\n",
       "      <td>-0.027915</td>\n",
       "      <td>0</td>\n",
       "    </tr>\n",
       "    <tr>\n",
       "      <th>1</th>\n",
       "      <td>-2.714142</td>\n",
       "      <td>-0.177001</td>\n",
       "      <td>-0.210464</td>\n",
       "      <td>0</td>\n",
       "    </tr>\n",
       "    <tr>\n",
       "      <th>2</th>\n",
       "      <td>-2.888991</td>\n",
       "      <td>-0.144949</td>\n",
       "      <td>0.017900</td>\n",
       "      <td>0</td>\n",
       "    </tr>\n",
       "    <tr>\n",
       "      <th>3</th>\n",
       "      <td>-2.745343</td>\n",
       "      <td>-0.318299</td>\n",
       "      <td>0.031559</td>\n",
       "      <td>0</td>\n",
       "    </tr>\n",
       "    <tr>\n",
       "      <th>4</th>\n",
       "      <td>-2.728717</td>\n",
       "      <td>0.326755</td>\n",
       "      <td>0.090079</td>\n",
       "      <td>0</td>\n",
       "    </tr>\n",
       "  </tbody>\n",
       "</table>\n",
       "</div>"
      ],
      "text/plain": [
       "   principal component 1  principal component 2  principal component 2  target\n",
       "0              -2.684126               0.319397              -0.027915       0\n",
       "1              -2.714142              -0.177001              -0.210464       0\n",
       "2              -2.888991              -0.144949               0.017900       0\n",
       "3              -2.745343              -0.318299               0.031559       0\n",
       "4              -2.728717               0.326755               0.090079       0"
      ]
     },
     "execution_count": 17,
     "metadata": {},
     "output_type": "execute_result"
    }
   ],
   "source": [
    "#Apply PCA to transform iris dataset into 2D for visuallization\n",
    "pca2 = PCA(n_components=3)\n",
    "principalComponents2 = pca2.fit_transform(X)\n",
    "principalDf2 = pd.DataFrame(data = principalComponents2, columns = ['principal component 1', 'principal component 2', 'principal component 2'])\n",
    "finalDf2 = pd.concat([principalDf2, df[['target']]], axis = 1)\n",
    "finalDf2.head(5)"
   ]
  },
  {
   "cell_type": "code",
   "execution_count": 22,
   "id": "0ba6df28",
   "metadata": {},
   "outputs": [
    {
     "name": "stdout",
     "output_type": "stream",
     "text": [
      "components_ in the data transformed to 2D : \n",
      "[[ 0.36138659 -0.08452251  0.85667061  0.3582892 ]\n",
      " [ 0.65658877  0.73016143 -0.17337266 -0.07548102]\n",
      " [-0.58202985  0.59791083  0.07623608  0.54583143]]\n",
      "\n",
      "explained_variance_ in the data transformed to 2D : \n",
      "[4.22824171 0.24267075 0.0782095 ]\n",
      "\n",
      "score in the data transformed to 2D : \n",
      "-2.5328088437833913\n"
     ]
    }
   ],
   "source": [
    "#check the statistical values of the model transformed from 4D to 2D\n",
    "print(f\"components_ in the data transformed to 2D : \\n{pca2.components_}\\n\")\n",
    "print(f\"explained_variance_ in the data transformed to 2D : \\n{pca2.explained_variance_}\\n\")\n",
    "print(f\"score in the data transformed to 2D : \\n{pca2.score(X)}\")"
   ]
  },
  {
   "cell_type": "code",
   "execution_count": 23,
   "id": "73dccae1",
   "metadata": {},
   "outputs": [
    {
     "data": {
      "application/vnd.plotly.v1+json": {
       "config": {
        "plotlyServerURL": "https://plot.ly"
       },
       "data": [
        {
         "hovertemplate": "PC 1=%{x}<br>PC 2=%{y}<br>PC 3=%{z}<br>color=%{marker.color}<extra></extra>",
         "legendgroup": "",
         "marker": {
          "color": [
           0,
           0,
           0,
           0,
           0,
           0,
           0,
           0,
           0,
           0,
           0,
           0,
           0,
           0,
           0,
           0,
           0,
           0,
           0,
           0,
           0,
           0,
           0,
           0,
           0,
           0,
           0,
           0,
           0,
           0,
           0,
           0,
           0,
           0,
           0,
           0,
           0,
           0,
           0,
           0,
           0,
           0,
           0,
           0,
           0,
           0,
           0,
           0,
           0,
           0,
           1,
           1,
           1,
           1,
           1,
           1,
           1,
           1,
           1,
           1,
           1,
           1,
           1,
           1,
           1,
           1,
           1,
           1,
           1,
           1,
           1,
           1,
           1,
           1,
           1,
           1,
           1,
           1,
           1,
           1,
           1,
           1,
           1,
           1,
           1,
           1,
           1,
           1,
           1,
           1,
           1,
           1,
           1,
           1,
           1,
           1,
           1,
           1,
           1,
           1,
           2,
           2,
           2,
           2,
           2,
           2,
           2,
           2,
           2,
           2,
           2,
           2,
           2,
           2,
           2,
           2,
           2,
           2,
           2,
           2,
           2,
           2,
           2,
           2,
           2,
           2,
           2,
           2,
           2,
           2,
           2,
           2,
           2,
           2,
           2,
           2,
           2,
           2,
           2,
           2,
           2,
           2,
           2,
           2,
           2,
           2,
           2,
           2,
           2,
           2
          ],
          "coloraxis": "coloraxis",
          "symbol": "circle"
         },
         "mode": "markers",
         "name": "",
         "scene": "scene",
         "showlegend": false,
         "type": "scatter3d",
         "x": [
          -2.684125625969542,
          -2.7141416872943265,
          -2.888990569059299,
          -2.745342855641412,
          -2.7287165365545323,
          -2.2808596328444932,
          -2.8205377507406104,
          -2.6261449731466344,
          -2.886382731780555,
          -2.6727557978209555,
          -2.5069470906518574,
          -2.6127552309087245,
          -2.7861092661880194,
          -3.2238037438656546,
          -2.6447503899420304,
          -2.386039033531135,
          -2.6235278752244278,
          -2.648296706254383,
          -2.199820323617581,
          -2.5879863998787704,
          -2.3102562152425192,
          -2.543705228757158,
          -3.2159394156486125,
          -2.3027331822262083,
          -2.355754049123774,
          -2.5066689069258237,
          -2.4688200731213406,
          -2.562319906196018,
          -2.6395347153845443,
          -2.6319893872743476,
          -2.587398476689354,
          -2.4099324970021763,
          -2.6488623343499134,
          -2.598736749100589,
          -2.6369268781058004,
          -2.866241652118671,
          -2.625238049850374,
          -2.8006841154482234,
          -2.9805020437819953,
          -2.5900063139680976,
          -2.7701024260279037,
          -2.849368705043106,
          -2.9974065465949096,
          -2.4056144850974874,
          -2.209489237783681,
          -2.714451426757709,
          -2.538148258998942,
          -2.8394621676428518,
          -2.5430857498303947,
          -2.703359782335162,
          1.284825688858352,
          0.9324885323123182,
          1.4643023219913938,
          0.18331771995836993,
          1.088103257711666,
          0.6416690842580773,
          1.0950606626324466,
          -0.7491226698296581,
          1.0441318260534358,
          -0.008745404082897113,
          -0.507840883835327,
          0.5116985574475971,
          0.2649765081120461,
          0.9849345104708902,
          -0.17392537168176844,
          0.9278607809442472,
          0.6602837616969366,
          0.23610499331767118,
          0.9447337280198131,
          0.04522697629869929,
          1.1162831773500494,
          0.3578884179973069,
          1.2981838753589134,
          0.9217289224470369,
          0.7148533259114115,
          0.9001743731721675,
          1.3320244367220888,
          1.5578021550660706,
          0.8132906498175411,
          -0.3055837780243097,
          -0.0681264920683643,
          -0.1896224723785027,
          0.13642871155801442,
          1.380026435915511,
          0.5880064433398632,
          0.8068583125004121,
          1.2206908824443528,
          0.8150952357665997,
          0.24595767988669195,
          0.1664132171454563,
          0.46480028840377874,
          0.8908151984694491,
          0.23054802355945483,
          -0.7045317592446648,
          0.35698149470104656,
          0.3319344799450578,
          0.37621565106666993,
          0.6425760075543377,
          -0.9064698649488373,
          0.2990008418781428,
          2.531192727803628,
          1.4152358767039022,
          2.61667601599569,
          1.9715310530434356,
          2.3500059200446404,
          3.3970387360532595,
          0.521232243909773,
          2.9325870689936897,
          2.3212288165733783,
          2.9167509667860734,
          1.6617741536365316,
          1.803401952965091,
          2.1655917960801454,
          1.3461635794584512,
          1.5859282238732209,
          1.904456374793427,
          1.9496890593990694,
          3.4870553642902804,
          3.7956454220728846,
          1.300791712637657,
          2.427817913066046,
          1.19900110546556,
          3.4999200389245386,
          1.3887661316914652,
          2.275430503872205,
          2.614090473810832,
          1.2585081605114878,
          1.2911320591150208,
          2.123608722773895,
          2.3880030160034686,
          2.8416727781038715,
          3.230673661432094,
          2.15943764248905,
          1.4441612423295096,
          1.7812948100451123,
          3.076499931687188,
          2.144243314302082,
          1.9050981488140755,
          1.1693263393414999,
          2.107611143257242,
          2.3141547052356,
          1.9222678009026013,
          1.4152358767039022,
          2.5630133750774764,
          2.4187461827328254,
          1.944109794546968,
          1.527166614814517,
          1.7643457170444292,
          1.9009416142184234,
          1.3901888619479135
         ],
         "y": [
          0.31939724658510305,
          -0.1770012250647806,
          -0.14494942608555744,
          -0.3182989792519163,
          0.3267545129349198,
          0.741330449062915,
          -0.08946138452856905,
          0.16338495969832867,
          -0.5783117541867042,
          -0.11377424587411686,
          0.6450688986485742,
          0.01472993916137436,
          -0.2351120002017185,
          -0.5113945870063825,
          1.1787646364375757,
          1.3380623304006531,
          0.8106795141812578,
          0.31184914459335483,
          0.8728390389622113,
          0.513560308749277,
          0.39134593565389447,
          0.43299606327902823,
          0.13346806953852564,
          0.09870885481409927,
          -0.037281859677382734,
          -0.14601688049526776,
          0.13095148943525017,
          0.3677188574342001,
          0.31203998023528307,
          -0.19696122492431467,
          -0.20431849127413357,
          0.4109242642295731,
          0.8133638202969622,
          1.0931457594493572,
          -0.12132234786586323,
          0.06936447158008058,
          0.5993700213794241,
          0.2686437377979823,
          -0.4879583444286158,
          0.22904383682701268,
          0.26352753374425647,
          -0.940960573641197,
          -0.3419260574716102,
          0.18887142893026015,
          0.43666314163918785,
          -0.2502082041852113,
          0.5037711444614377,
          -0.22794556949382783,
          0.5794100215198895,
          0.10770608249941162,
          0.6851604704673088,
          0.3183336382626288,
          0.5042628153092042,
          -0.8279590118206325,
          0.07459067519771612,
          -0.41824687156867923,
          0.28346827006152875,
          -1.0048909611818957,
          0.2283618997883956,
          -0.7230819050048347,
          -1.2659711905263942,
          -0.10398123549904077,
          -0.5500364636804748,
          -0.12481785412635765,
          -0.2548542087025897,
          0.46717949444151063,
          -0.352969665723851,
          -0.3336107668249156,
          -0.5431455507797667,
          -0.5838343774718646,
          -0.08461685219478861,
          -0.06892503165601409,
          -0.3277873083339176,
          -0.1827377936213677,
          0.14905594436978475,
          0.3285044738343233,
          0.24444087601634362,
          0.2674954473102546,
          -0.1633503006876166,
          -0.36826218975458813,
          -0.7051721317994657,
          -0.6802867635281337,
          -0.31403243824923693,
          -0.42095428731388235,
          -0.48428741998121894,
          0.19418231471315045,
          0.40761959361100714,
          -0.3720370599095018,
          -0.2685243966220153,
          -0.6819267248636272,
          -0.6707115445117209,
          -0.03446444436826912,
          -0.40438584800732535,
          -1.0122482275317148,
          -0.504910093337109,
          -0.21265468378117022,
          -0.29321892925141935,
          0.01773819011241614,
          -0.7560933665990144,
          -0.3488978064503363,
          -0.009849109498802801,
          -0.5749163475464901,
          0.3439031513417341,
          -0.17972790435224595,
          -0.0402609471425316,
          0.5508366730280554,
          -1.1927587270006463,
          0.3555000029774963,
          -0.24383150231069087,
          0.7827919488152781,
          0.2422284077550667,
          -0.21563761733355577,
          0.21627558507402442,
          -0.7768183473443404,
          -0.5396407140267195,
          0.11925069209197217,
          0.041943259663211024,
          1.1757393297134293,
          0.2573229734204794,
          -0.7611496364350637,
          0.3781960126170504,
          -0.6060915277579313,
          0.46067409891189504,
          -0.20439932735215124,
          0.334990605821677,
          0.5609013551230777,
          -0.17970479472274706,
          -0.1166686511740119,
          -0.2097294766773032,
          0.46463980470873645,
          0.3752691671951033,
          1.3741650867930475,
          -0.21727757866904956,
          -0.143413410457581,
          -0.499901681078137,
          0.6880856775711758,
          0.1400642010897892,
          0.04930052601302983,
          -0.16499026202311012,
          0.3722878719607974,
          0.18365127916901844,
          0.4092034668160619,
          -0.5749163475464901,
          0.2778626029291944,
          0.3047981978546915,
          0.18753230280060482,
          -0.3753169825804888,
          0.07885885451847535,
          0.11662795851202283,
          -0.28266093799055114
         ],
         "z": [
          -0.02791482758941562,
          -0.21046427237824372,
          0.017900256320890044,
          0.03155937360568086,
          0.09007924055120109,
          0.16867765820910446,
          0.2578921582556177,
          -0.02187931788671974,
          0.02075957026478004,
          -0.1976327249881465,
          -0.07531800937912025,
          0.10215025995658966,
          -0.20684443044964454,
          0.06129967245709896,
          -0.15162752361780918,
          0.27777690270313554,
          0.13818322788071916,
          0.02666831561259387,
          -0.1203055233947309,
          0.21366517222471573,
          -0.23944404324495336,
          0.20845723241671488,
          0.292396750745242,
          0.03912325874288069,
          0.12502108270287857,
          -0.25342004234465754,
          0.09491057609939167,
          -0.07849420513792424,
          -0.1459088957300291,
          0.040771079067178966,
          -0.07722298907343586,
          -0.14552497200513093,
          0.22566914972011928,
          0.15781081295821997,
          -0.14304958178613902,
          -0.1643323066530256,
          -0.2683503756939363,
          0.09369908247979992,
          0.07292704569269232,
          -0.08008230301732605,
          0.0772476931611038,
          -0.34923037730596634,
          0.19250921171270954,
          0.26386794551341536,
          0.2987427457551085,
          -0.09767814404562948,
          0.16670563660480442,
          0.08372684903359313,
          -0.01711502424851334,
          -0.08929400847882464,
          -0.40656802546769405,
          -0.018014186646240424,
          -0.3383257649808962,
          -0.17959139187535542,
          -0.3077578962347847,
          0.04107609082395571,
          0.16981023986057497,
          0.012302919237595087,
          -0.4153360847593976,
          0.2811414311764094,
          -0.26981718276885275,
          0.13054775024048593,
          -0.694146830144419,
          -0.062114408322261234,
          0.09045769072570432,
          -0.3146209758321723,
          0.3280275283785948,
          -0.27116183725106685,
          -0.49951904648511275,
          -0.23500210497205598,
          0.45962099135910367,
          -0.22985388760895153,
          -0.34785435225730826,
          -0.23107177773628487,
          -0.3218009372444739,
          -0.31620907371157403,
          -0.5217027796644191,
          -0.16492098374358044,
          0.03542450484615999,
          -0.318491580623047,
          -0.24421381043355447,
          -0.3064205612176584,
          -0.17724276601124436,
          0.01616712752072856,
          0.4444334986398074,
          0.3889630630982104,
          -0.23716700988387582,
          -0.614720842591822,
          0.1883668116461944,
          -0.06000922585533824,
          -0.024306855718951925,
          -0.009946932894349015,
          -0.22941024143915661,
          -0.10569114890301984,
          0.016617170198265266,
          0.0832042908956764,
          0.07799635108767544,
          -0.20539496698326082,
          -0.012599647557890194,
          0.010581660495570416,
          0.7601654272458949,
          0.2963225273879642,
          -0.11078788321910894,
          0.10842466246342267,
          0.28538956318444114,
          -0.3484375557974673,
          0.5456592956468121,
          -0.42023993576796803,
          -0.34830439493484505,
          0.4233354176825583,
          0.2424401897257689,
          -0.03764816823148252,
          0.03332664184432518,
          0.2819028821184646,
          0.6290293264080102,
          0.47963981962659025,
          0.04418616763012194,
          0.13389487393609817,
          -0.5137677638178043,
          -0.3449950383134181,
          0.2191193243019431,
          0.5118555086970006,
          -0.5731822425680024,
          -0.0645227566312684,
          0.2861500911691496,
          -0.205534524353625,
          0.04584770392724987,
          0.2312564626599702,
          0.1541800239288299,
          -0.44953019194184984,
          -0.49889807587076873,
          -0.11454820547541908,
          0.20876316713083745,
          -0.15323388806309018,
          -0.17287518911341998,
          -0.33559229243454064,
          0.7348789367255107,
          0.1621802357707367,
          0.2818358402084801,
          0.027291132141630675,
          0.3226937471730589,
          0.11358659579935655,
          0.2963225273879642,
          0.2925695245967426,
          0.5044826639771798,
          0.17782509063265745,
          -0.1218981718671818,
          0.13048163128784807,
          0.7232515634899167,
          0.36290964808537524
         ]
        }
       ],
       "layout": {
        "coloraxis": {
         "colorbar": {
          "title": {
           "text": "color"
          }
         },
         "colorscale": [
          [
           0,
           "#0d0887"
          ],
          [
           0.1111111111111111,
           "#46039f"
          ],
          [
           0.2222222222222222,
           "#7201a8"
          ],
          [
           0.3333333333333333,
           "#9c179e"
          ],
          [
           0.4444444444444444,
           "#bd3786"
          ],
          [
           0.5555555555555556,
           "#d8576b"
          ],
          [
           0.6666666666666666,
           "#ed7953"
          ],
          [
           0.7777777777777778,
           "#fb9f3a"
          ],
          [
           0.8888888888888888,
           "#fdca26"
          ],
          [
           1,
           "#f0f921"
          ]
         ]
        },
        "legend": {
         "tracegroupgap": 0
        },
        "margin": {
         "t": 60
        },
        "scene": {
         "domain": {
          "x": [
           0,
           1
          ],
          "y": [
           0,
           1
          ]
         },
         "xaxis": {
          "title": {
           "text": "PC 1"
          }
         },
         "yaxis": {
          "title": {
           "text": "PC 2"
          }
         },
         "zaxis": {
          "title": {
           "text": "PC 3"
          }
         }
        },
        "template": {
         "data": {
          "bar": [
           {
            "error_x": {
             "color": "#2a3f5f"
            },
            "error_y": {
             "color": "#2a3f5f"
            },
            "marker": {
             "line": {
              "color": "#E5ECF6",
              "width": 0.5
             },
             "pattern": {
              "fillmode": "overlay",
              "size": 10,
              "solidity": 0.2
             }
            },
            "type": "bar"
           }
          ],
          "barpolar": [
           {
            "marker": {
             "line": {
              "color": "#E5ECF6",
              "width": 0.5
             },
             "pattern": {
              "fillmode": "overlay",
              "size": 10,
              "solidity": 0.2
             }
            },
            "type": "barpolar"
           }
          ],
          "carpet": [
           {
            "aaxis": {
             "endlinecolor": "#2a3f5f",
             "gridcolor": "white",
             "linecolor": "white",
             "minorgridcolor": "white",
             "startlinecolor": "#2a3f5f"
            },
            "baxis": {
             "endlinecolor": "#2a3f5f",
             "gridcolor": "white",
             "linecolor": "white",
             "minorgridcolor": "white",
             "startlinecolor": "#2a3f5f"
            },
            "type": "carpet"
           }
          ],
          "choropleth": [
           {
            "colorbar": {
             "outlinewidth": 0,
             "ticks": ""
            },
            "type": "choropleth"
           }
          ],
          "contour": [
           {
            "colorbar": {
             "outlinewidth": 0,
             "ticks": ""
            },
            "colorscale": [
             [
              0,
              "#0d0887"
             ],
             [
              0.1111111111111111,
              "#46039f"
             ],
             [
              0.2222222222222222,
              "#7201a8"
             ],
             [
              0.3333333333333333,
              "#9c179e"
             ],
             [
              0.4444444444444444,
              "#bd3786"
             ],
             [
              0.5555555555555556,
              "#d8576b"
             ],
             [
              0.6666666666666666,
              "#ed7953"
             ],
             [
              0.7777777777777778,
              "#fb9f3a"
             ],
             [
              0.8888888888888888,
              "#fdca26"
             ],
             [
              1,
              "#f0f921"
             ]
            ],
            "type": "contour"
           }
          ],
          "contourcarpet": [
           {
            "colorbar": {
             "outlinewidth": 0,
             "ticks": ""
            },
            "type": "contourcarpet"
           }
          ],
          "heatmap": [
           {
            "colorbar": {
             "outlinewidth": 0,
             "ticks": ""
            },
            "colorscale": [
             [
              0,
              "#0d0887"
             ],
             [
              0.1111111111111111,
              "#46039f"
             ],
             [
              0.2222222222222222,
              "#7201a8"
             ],
             [
              0.3333333333333333,
              "#9c179e"
             ],
             [
              0.4444444444444444,
              "#bd3786"
             ],
             [
              0.5555555555555556,
              "#d8576b"
             ],
             [
              0.6666666666666666,
              "#ed7953"
             ],
             [
              0.7777777777777778,
              "#fb9f3a"
             ],
             [
              0.8888888888888888,
              "#fdca26"
             ],
             [
              1,
              "#f0f921"
             ]
            ],
            "type": "heatmap"
           }
          ],
          "heatmapgl": [
           {
            "colorbar": {
             "outlinewidth": 0,
             "ticks": ""
            },
            "colorscale": [
             [
              0,
              "#0d0887"
             ],
             [
              0.1111111111111111,
              "#46039f"
             ],
             [
              0.2222222222222222,
              "#7201a8"
             ],
             [
              0.3333333333333333,
              "#9c179e"
             ],
             [
              0.4444444444444444,
              "#bd3786"
             ],
             [
              0.5555555555555556,
              "#d8576b"
             ],
             [
              0.6666666666666666,
              "#ed7953"
             ],
             [
              0.7777777777777778,
              "#fb9f3a"
             ],
             [
              0.8888888888888888,
              "#fdca26"
             ],
             [
              1,
              "#f0f921"
             ]
            ],
            "type": "heatmapgl"
           }
          ],
          "histogram": [
           {
            "marker": {
             "pattern": {
              "fillmode": "overlay",
              "size": 10,
              "solidity": 0.2
             }
            },
            "type": "histogram"
           }
          ],
          "histogram2d": [
           {
            "colorbar": {
             "outlinewidth": 0,
             "ticks": ""
            },
            "colorscale": [
             [
              0,
              "#0d0887"
             ],
             [
              0.1111111111111111,
              "#46039f"
             ],
             [
              0.2222222222222222,
              "#7201a8"
             ],
             [
              0.3333333333333333,
              "#9c179e"
             ],
             [
              0.4444444444444444,
              "#bd3786"
             ],
             [
              0.5555555555555556,
              "#d8576b"
             ],
             [
              0.6666666666666666,
              "#ed7953"
             ],
             [
              0.7777777777777778,
              "#fb9f3a"
             ],
             [
              0.8888888888888888,
              "#fdca26"
             ],
             [
              1,
              "#f0f921"
             ]
            ],
            "type": "histogram2d"
           }
          ],
          "histogram2dcontour": [
           {
            "colorbar": {
             "outlinewidth": 0,
             "ticks": ""
            },
            "colorscale": [
             [
              0,
              "#0d0887"
             ],
             [
              0.1111111111111111,
              "#46039f"
             ],
             [
              0.2222222222222222,
              "#7201a8"
             ],
             [
              0.3333333333333333,
              "#9c179e"
             ],
             [
              0.4444444444444444,
              "#bd3786"
             ],
             [
              0.5555555555555556,
              "#d8576b"
             ],
             [
              0.6666666666666666,
              "#ed7953"
             ],
             [
              0.7777777777777778,
              "#fb9f3a"
             ],
             [
              0.8888888888888888,
              "#fdca26"
             ],
             [
              1,
              "#f0f921"
             ]
            ],
            "type": "histogram2dcontour"
           }
          ],
          "mesh3d": [
           {
            "colorbar": {
             "outlinewidth": 0,
             "ticks": ""
            },
            "type": "mesh3d"
           }
          ],
          "parcoords": [
           {
            "line": {
             "colorbar": {
              "outlinewidth": 0,
              "ticks": ""
             }
            },
            "type": "parcoords"
           }
          ],
          "pie": [
           {
            "automargin": true,
            "type": "pie"
           }
          ],
          "scatter": [
           {
            "fillpattern": {
             "fillmode": "overlay",
             "size": 10,
             "solidity": 0.2
            },
            "type": "scatter"
           }
          ],
          "scatter3d": [
           {
            "line": {
             "colorbar": {
              "outlinewidth": 0,
              "ticks": ""
             }
            },
            "marker": {
             "colorbar": {
              "outlinewidth": 0,
              "ticks": ""
             }
            },
            "type": "scatter3d"
           }
          ],
          "scattercarpet": [
           {
            "marker": {
             "colorbar": {
              "outlinewidth": 0,
              "ticks": ""
             }
            },
            "type": "scattercarpet"
           }
          ],
          "scattergeo": [
           {
            "marker": {
             "colorbar": {
              "outlinewidth": 0,
              "ticks": ""
             }
            },
            "type": "scattergeo"
           }
          ],
          "scattergl": [
           {
            "marker": {
             "colorbar": {
              "outlinewidth": 0,
              "ticks": ""
             }
            },
            "type": "scattergl"
           }
          ],
          "scattermapbox": [
           {
            "marker": {
             "colorbar": {
              "outlinewidth": 0,
              "ticks": ""
             }
            },
            "type": "scattermapbox"
           }
          ],
          "scatterpolar": [
           {
            "marker": {
             "colorbar": {
              "outlinewidth": 0,
              "ticks": ""
             }
            },
            "type": "scatterpolar"
           }
          ],
          "scatterpolargl": [
           {
            "marker": {
             "colorbar": {
              "outlinewidth": 0,
              "ticks": ""
             }
            },
            "type": "scatterpolargl"
           }
          ],
          "scatterternary": [
           {
            "marker": {
             "colorbar": {
              "outlinewidth": 0,
              "ticks": ""
             }
            },
            "type": "scatterternary"
           }
          ],
          "surface": [
           {
            "colorbar": {
             "outlinewidth": 0,
             "ticks": ""
            },
            "colorscale": [
             [
              0,
              "#0d0887"
             ],
             [
              0.1111111111111111,
              "#46039f"
             ],
             [
              0.2222222222222222,
              "#7201a8"
             ],
             [
              0.3333333333333333,
              "#9c179e"
             ],
             [
              0.4444444444444444,
              "#bd3786"
             ],
             [
              0.5555555555555556,
              "#d8576b"
             ],
             [
              0.6666666666666666,
              "#ed7953"
             ],
             [
              0.7777777777777778,
              "#fb9f3a"
             ],
             [
              0.8888888888888888,
              "#fdca26"
             ],
             [
              1,
              "#f0f921"
             ]
            ],
            "type": "surface"
           }
          ],
          "table": [
           {
            "cells": {
             "fill": {
              "color": "#EBF0F8"
             },
             "line": {
              "color": "white"
             }
            },
            "header": {
             "fill": {
              "color": "#C8D4E3"
             },
             "line": {
              "color": "white"
             }
            },
            "type": "table"
           }
          ]
         },
         "layout": {
          "annotationdefaults": {
           "arrowcolor": "#2a3f5f",
           "arrowhead": 0,
           "arrowwidth": 1
          },
          "autotypenumbers": "strict",
          "coloraxis": {
           "colorbar": {
            "outlinewidth": 0,
            "ticks": ""
           }
          },
          "colorscale": {
           "diverging": [
            [
             0,
             "#8e0152"
            ],
            [
             0.1,
             "#c51b7d"
            ],
            [
             0.2,
             "#de77ae"
            ],
            [
             0.3,
             "#f1b6da"
            ],
            [
             0.4,
             "#fde0ef"
            ],
            [
             0.5,
             "#f7f7f7"
            ],
            [
             0.6,
             "#e6f5d0"
            ],
            [
             0.7,
             "#b8e186"
            ],
            [
             0.8,
             "#7fbc41"
            ],
            [
             0.9,
             "#4d9221"
            ],
            [
             1,
             "#276419"
            ]
           ],
           "sequential": [
            [
             0,
             "#0d0887"
            ],
            [
             0.1111111111111111,
             "#46039f"
            ],
            [
             0.2222222222222222,
             "#7201a8"
            ],
            [
             0.3333333333333333,
             "#9c179e"
            ],
            [
             0.4444444444444444,
             "#bd3786"
            ],
            [
             0.5555555555555556,
             "#d8576b"
            ],
            [
             0.6666666666666666,
             "#ed7953"
            ],
            [
             0.7777777777777778,
             "#fb9f3a"
            ],
            [
             0.8888888888888888,
             "#fdca26"
            ],
            [
             1,
             "#f0f921"
            ]
           ],
           "sequentialminus": [
            [
             0,
             "#0d0887"
            ],
            [
             0.1111111111111111,
             "#46039f"
            ],
            [
             0.2222222222222222,
             "#7201a8"
            ],
            [
             0.3333333333333333,
             "#9c179e"
            ],
            [
             0.4444444444444444,
             "#bd3786"
            ],
            [
             0.5555555555555556,
             "#d8576b"
            ],
            [
             0.6666666666666666,
             "#ed7953"
            ],
            [
             0.7777777777777778,
             "#fb9f3a"
            ],
            [
             0.8888888888888888,
             "#fdca26"
            ],
            [
             1,
             "#f0f921"
            ]
           ]
          },
          "colorway": [
           "#636efa",
           "#EF553B",
           "#00cc96",
           "#ab63fa",
           "#FFA15A",
           "#19d3f3",
           "#FF6692",
           "#B6E880",
           "#FF97FF",
           "#FECB52"
          ],
          "font": {
           "color": "#2a3f5f"
          },
          "geo": {
           "bgcolor": "white",
           "lakecolor": "white",
           "landcolor": "#E5ECF6",
           "showlakes": true,
           "showland": true,
           "subunitcolor": "white"
          },
          "hoverlabel": {
           "align": "left"
          },
          "hovermode": "closest",
          "mapbox": {
           "style": "light"
          },
          "paper_bgcolor": "white",
          "plot_bgcolor": "#E5ECF6",
          "polar": {
           "angularaxis": {
            "gridcolor": "white",
            "linecolor": "white",
            "ticks": ""
           },
           "bgcolor": "#E5ECF6",
           "radialaxis": {
            "gridcolor": "white",
            "linecolor": "white",
            "ticks": ""
           }
          },
          "scene": {
           "xaxis": {
            "backgroundcolor": "#E5ECF6",
            "gridcolor": "white",
            "gridwidth": 2,
            "linecolor": "white",
            "showbackground": true,
            "ticks": "",
            "zerolinecolor": "white"
           },
           "yaxis": {
            "backgroundcolor": "#E5ECF6",
            "gridcolor": "white",
            "gridwidth": 2,
            "linecolor": "white",
            "showbackground": true,
            "ticks": "",
            "zerolinecolor": "white"
           },
           "zaxis": {
            "backgroundcolor": "#E5ECF6",
            "gridcolor": "white",
            "gridwidth": 2,
            "linecolor": "white",
            "showbackground": true,
            "ticks": "",
            "zerolinecolor": "white"
           }
          },
          "shapedefaults": {
           "line": {
            "color": "#2a3f5f"
           }
          },
          "ternary": {
           "aaxis": {
            "gridcolor": "white",
            "linecolor": "white",
            "ticks": ""
           },
           "baxis": {
            "gridcolor": "white",
            "linecolor": "white",
            "ticks": ""
           },
           "bgcolor": "#E5ECF6",
           "caxis": {
            "gridcolor": "white",
            "linecolor": "white",
            "ticks": ""
           }
          },
          "title": {
           "x": 0.05
          },
          "xaxis": {
           "automargin": true,
           "gridcolor": "white",
           "linecolor": "white",
           "ticks": "",
           "title": {
            "standoff": 15
           },
           "zerolinecolor": "white",
           "zerolinewidth": 2
          },
          "yaxis": {
           "automargin": true,
           "gridcolor": "white",
           "linecolor": "white",
           "ticks": "",
           "title": {
            "standoff": 15
           },
           "zerolinecolor": "white",
           "zerolinewidth": 2
          }
         }
        }
       }
      },
      "text/html": [
       "<div>                            <div id=\"8f870030-6e2d-4941-84e7-a7d737dbf48e\" class=\"plotly-graph-div\" style=\"height:525px; width:100%;\"></div>            <script type=\"text/javascript\">                require([\"plotly\"], function(Plotly) {                    window.PLOTLYENV=window.PLOTLYENV || {};                                    if (document.getElementById(\"8f870030-6e2d-4941-84e7-a7d737dbf48e\")) {                    Plotly.newPlot(                        \"8f870030-6e2d-4941-84e7-a7d737dbf48e\",                        [{\"hovertemplate\":\"PC 1=%{x}<br>PC 2=%{y}<br>PC 3=%{z}<br>color=%{marker.color}<extra></extra>\",\"legendgroup\":\"\",\"marker\":{\"color\":[0,0,0,0,0,0,0,0,0,0,0,0,0,0,0,0,0,0,0,0,0,0,0,0,0,0,0,0,0,0,0,0,0,0,0,0,0,0,0,0,0,0,0,0,0,0,0,0,0,0,1,1,1,1,1,1,1,1,1,1,1,1,1,1,1,1,1,1,1,1,1,1,1,1,1,1,1,1,1,1,1,1,1,1,1,1,1,1,1,1,1,1,1,1,1,1,1,1,1,1,2,2,2,2,2,2,2,2,2,2,2,2,2,2,2,2,2,2,2,2,2,2,2,2,2,2,2,2,2,2,2,2,2,2,2,2,2,2,2,2,2,2,2,2,2,2,2,2,2,2],\"coloraxis\":\"coloraxis\",\"symbol\":\"circle\"},\"mode\":\"markers\",\"name\":\"\",\"scene\":\"scene\",\"showlegend\":false,\"x\":[-2.684125625969542,-2.7141416872943265,-2.888990569059299,-2.745342855641412,-2.7287165365545323,-2.2808596328444932,-2.8205377507406104,-2.6261449731466344,-2.886382731780555,-2.6727557978209555,-2.5069470906518574,-2.6127552309087245,-2.7861092661880194,-3.2238037438656546,-2.6447503899420304,-2.386039033531135,-2.6235278752244278,-2.648296706254383,-2.199820323617581,-2.5879863998787704,-2.3102562152425192,-2.543705228757158,-3.2159394156486125,-2.3027331822262083,-2.355754049123774,-2.5066689069258237,-2.4688200731213406,-2.562319906196018,-2.6395347153845443,-2.6319893872743476,-2.587398476689354,-2.4099324970021763,-2.6488623343499134,-2.598736749100589,-2.6369268781058004,-2.866241652118671,-2.625238049850374,-2.8006841154482234,-2.9805020437819953,-2.5900063139680976,-2.7701024260279037,-2.849368705043106,-2.9974065465949096,-2.4056144850974874,-2.209489237783681,-2.714451426757709,-2.538148258998942,-2.8394621676428518,-2.5430857498303947,-2.703359782335162,1.284825688858352,0.9324885323123182,1.4643023219913938,0.18331771995836993,1.088103257711666,0.6416690842580773,1.0950606626324466,-0.7491226698296581,1.0441318260534358,-0.008745404082897113,-0.507840883835327,0.5116985574475971,0.2649765081120461,0.9849345104708902,-0.17392537168176844,0.9278607809442472,0.6602837616969366,0.23610499331767118,0.9447337280198131,0.04522697629869929,1.1162831773500494,0.3578884179973069,1.2981838753589134,0.9217289224470369,0.7148533259114115,0.9001743731721675,1.3320244367220888,1.5578021550660706,0.8132906498175411,-0.3055837780243097,-0.0681264920683643,-0.1896224723785027,0.13642871155801442,1.380026435915511,0.5880064433398632,0.8068583125004121,1.2206908824443528,0.8150952357665997,0.24595767988669195,0.1664132171454563,0.46480028840377874,0.8908151984694491,0.23054802355945483,-0.7045317592446648,0.35698149470104656,0.3319344799450578,0.37621565106666993,0.6425760075543377,-0.9064698649488373,0.2990008418781428,2.531192727803628,1.4152358767039022,2.61667601599569,1.9715310530434356,2.3500059200446404,3.3970387360532595,0.521232243909773,2.9325870689936897,2.3212288165733783,2.9167509667860734,1.6617741536365316,1.803401952965091,2.1655917960801454,1.3461635794584512,1.5859282238732209,1.904456374793427,1.9496890593990694,3.4870553642902804,3.7956454220728846,1.300791712637657,2.427817913066046,1.19900110546556,3.4999200389245386,1.3887661316914652,2.275430503872205,2.614090473810832,1.2585081605114878,1.2911320591150208,2.123608722773895,2.3880030160034686,2.8416727781038715,3.230673661432094,2.15943764248905,1.4441612423295096,1.7812948100451123,3.076499931687188,2.144243314302082,1.9050981488140755,1.1693263393414999,2.107611143257242,2.3141547052356,1.9222678009026013,1.4152358767039022,2.5630133750774764,2.4187461827328254,1.944109794546968,1.527166614814517,1.7643457170444292,1.9009416142184234,1.3901888619479135],\"y\":[0.31939724658510305,-0.1770012250647806,-0.14494942608555744,-0.3182989792519163,0.3267545129349198,0.741330449062915,-0.08946138452856905,0.16338495969832867,-0.5783117541867042,-0.11377424587411686,0.6450688986485742,0.01472993916137436,-0.2351120002017185,-0.5113945870063825,1.1787646364375757,1.3380623304006531,0.8106795141812578,0.31184914459335483,0.8728390389622113,0.513560308749277,0.39134593565389447,0.43299606327902823,0.13346806953852564,0.09870885481409927,-0.037281859677382734,-0.14601688049526776,0.13095148943525017,0.3677188574342001,0.31203998023528307,-0.19696122492431467,-0.20431849127413357,0.4109242642295731,0.8133638202969622,1.0931457594493572,-0.12132234786586323,0.06936447158008058,0.5993700213794241,0.2686437377979823,-0.4879583444286158,0.22904383682701268,0.26352753374425647,-0.940960573641197,-0.3419260574716102,0.18887142893026015,0.43666314163918785,-0.2502082041852113,0.5037711444614377,-0.22794556949382783,0.5794100215198895,0.10770608249941162,0.6851604704673088,0.3183336382626288,0.5042628153092042,-0.8279590118206325,0.07459067519771612,-0.41824687156867923,0.28346827006152875,-1.0048909611818957,0.2283618997883956,-0.7230819050048347,-1.2659711905263942,-0.10398123549904077,-0.5500364636804748,-0.12481785412635765,-0.2548542087025897,0.46717949444151063,-0.352969665723851,-0.3336107668249156,-0.5431455507797667,-0.5838343774718646,-0.08461685219478861,-0.06892503165601409,-0.3277873083339176,-0.1827377936213677,0.14905594436978475,0.3285044738343233,0.24444087601634362,0.2674954473102546,-0.1633503006876166,-0.36826218975458813,-0.7051721317994657,-0.6802867635281337,-0.31403243824923693,-0.42095428731388235,-0.48428741998121894,0.19418231471315045,0.40761959361100714,-0.3720370599095018,-0.2685243966220153,-0.6819267248636272,-0.6707115445117209,-0.03446444436826912,-0.40438584800732535,-1.0122482275317148,-0.504910093337109,-0.21265468378117022,-0.29321892925141935,0.01773819011241614,-0.7560933665990144,-0.3488978064503363,-0.009849109498802801,-0.5749163475464901,0.3439031513417341,-0.17972790435224595,-0.0402609471425316,0.5508366730280554,-1.1927587270006463,0.3555000029774963,-0.24383150231069087,0.7827919488152781,0.2422284077550667,-0.21563761733355577,0.21627558507402442,-0.7768183473443404,-0.5396407140267195,0.11925069209197217,0.041943259663211024,1.1757393297134293,0.2573229734204794,-0.7611496364350637,0.3781960126170504,-0.6060915277579313,0.46067409891189504,-0.20439932735215124,0.334990605821677,0.5609013551230777,-0.17970479472274706,-0.1166686511740119,-0.2097294766773032,0.46463980470873645,0.3752691671951033,1.3741650867930475,-0.21727757866904956,-0.143413410457581,-0.499901681078137,0.6880856775711758,0.1400642010897892,0.04930052601302983,-0.16499026202311012,0.3722878719607974,0.18365127916901844,0.4092034668160619,-0.5749163475464901,0.2778626029291944,0.3047981978546915,0.18753230280060482,-0.3753169825804888,0.07885885451847535,0.11662795851202283,-0.28266093799055114],\"z\":[-0.02791482758941562,-0.21046427237824372,0.017900256320890044,0.03155937360568086,0.09007924055120109,0.16867765820910446,0.2578921582556177,-0.02187931788671974,0.02075957026478004,-0.1976327249881465,-0.07531800937912025,0.10215025995658966,-0.20684443044964454,0.06129967245709896,-0.15162752361780918,0.27777690270313554,0.13818322788071916,0.02666831561259387,-0.1203055233947309,0.21366517222471573,-0.23944404324495336,0.20845723241671488,0.292396750745242,0.03912325874288069,0.12502108270287857,-0.25342004234465754,0.09491057609939167,-0.07849420513792424,-0.1459088957300291,0.040771079067178966,-0.07722298907343586,-0.14552497200513093,0.22566914972011928,0.15781081295821997,-0.14304958178613902,-0.1643323066530256,-0.2683503756939363,0.09369908247979992,0.07292704569269232,-0.08008230301732605,0.0772476931611038,-0.34923037730596634,0.19250921171270954,0.26386794551341536,0.2987427457551085,-0.09767814404562948,0.16670563660480442,0.08372684903359313,-0.01711502424851334,-0.08929400847882464,-0.40656802546769405,-0.018014186646240424,-0.3383257649808962,-0.17959139187535542,-0.3077578962347847,0.04107609082395571,0.16981023986057497,0.012302919237595087,-0.4153360847593976,0.2811414311764094,-0.26981718276885275,0.13054775024048593,-0.694146830144419,-0.062114408322261234,0.09045769072570432,-0.3146209758321723,0.3280275283785948,-0.27116183725106685,-0.49951904648511275,-0.23500210497205598,0.45962099135910367,-0.22985388760895153,-0.34785435225730826,-0.23107177773628487,-0.3218009372444739,-0.31620907371157403,-0.5217027796644191,-0.16492098374358044,0.03542450484615999,-0.318491580623047,-0.24421381043355447,-0.3064205612176584,-0.17724276601124436,0.01616712752072856,0.4444334986398074,0.3889630630982104,-0.23716700988387582,-0.614720842591822,0.1883668116461944,-0.06000922585533824,-0.024306855718951925,-0.009946932894349015,-0.22941024143915661,-0.10569114890301984,0.016617170198265266,0.0832042908956764,0.07799635108767544,-0.20539496698326082,-0.012599647557890194,0.010581660495570416,0.7601654272458949,0.2963225273879642,-0.11078788321910894,0.10842466246342267,0.28538956318444114,-0.3484375557974673,0.5456592956468121,-0.42023993576796803,-0.34830439493484505,0.4233354176825583,0.2424401897257689,-0.03764816823148252,0.03332664184432518,0.2819028821184646,0.6290293264080102,0.47963981962659025,0.04418616763012194,0.13389487393609817,-0.5137677638178043,-0.3449950383134181,0.2191193243019431,0.5118555086970006,-0.5731822425680024,-0.0645227566312684,0.2861500911691496,-0.205534524353625,0.04584770392724987,0.2312564626599702,0.1541800239288299,-0.44953019194184984,-0.49889807587076873,-0.11454820547541908,0.20876316713083745,-0.15323388806309018,-0.17287518911341998,-0.33559229243454064,0.7348789367255107,0.1621802357707367,0.2818358402084801,0.027291132141630675,0.3226937471730589,0.11358659579935655,0.2963225273879642,0.2925695245967426,0.5044826639771798,0.17782509063265745,-0.1218981718671818,0.13048163128784807,0.7232515634899167,0.36290964808537524],\"type\":\"scatter3d\"}],                        {\"template\":{\"data\":{\"histogram2dcontour\":[{\"type\":\"histogram2dcontour\",\"colorbar\":{\"outlinewidth\":0,\"ticks\":\"\"},\"colorscale\":[[0.0,\"#0d0887\"],[0.1111111111111111,\"#46039f\"],[0.2222222222222222,\"#7201a8\"],[0.3333333333333333,\"#9c179e\"],[0.4444444444444444,\"#bd3786\"],[0.5555555555555556,\"#d8576b\"],[0.6666666666666666,\"#ed7953\"],[0.7777777777777778,\"#fb9f3a\"],[0.8888888888888888,\"#fdca26\"],[1.0,\"#f0f921\"]]}],\"choropleth\":[{\"type\":\"choropleth\",\"colorbar\":{\"outlinewidth\":0,\"ticks\":\"\"}}],\"histogram2d\":[{\"type\":\"histogram2d\",\"colorbar\":{\"outlinewidth\":0,\"ticks\":\"\"},\"colorscale\":[[0.0,\"#0d0887\"],[0.1111111111111111,\"#46039f\"],[0.2222222222222222,\"#7201a8\"],[0.3333333333333333,\"#9c179e\"],[0.4444444444444444,\"#bd3786\"],[0.5555555555555556,\"#d8576b\"],[0.6666666666666666,\"#ed7953\"],[0.7777777777777778,\"#fb9f3a\"],[0.8888888888888888,\"#fdca26\"],[1.0,\"#f0f921\"]]}],\"heatmap\":[{\"type\":\"heatmap\",\"colorbar\":{\"outlinewidth\":0,\"ticks\":\"\"},\"colorscale\":[[0.0,\"#0d0887\"],[0.1111111111111111,\"#46039f\"],[0.2222222222222222,\"#7201a8\"],[0.3333333333333333,\"#9c179e\"],[0.4444444444444444,\"#bd3786\"],[0.5555555555555556,\"#d8576b\"],[0.6666666666666666,\"#ed7953\"],[0.7777777777777778,\"#fb9f3a\"],[0.8888888888888888,\"#fdca26\"],[1.0,\"#f0f921\"]]}],\"heatmapgl\":[{\"type\":\"heatmapgl\",\"colorbar\":{\"outlinewidth\":0,\"ticks\":\"\"},\"colorscale\":[[0.0,\"#0d0887\"],[0.1111111111111111,\"#46039f\"],[0.2222222222222222,\"#7201a8\"],[0.3333333333333333,\"#9c179e\"],[0.4444444444444444,\"#bd3786\"],[0.5555555555555556,\"#d8576b\"],[0.6666666666666666,\"#ed7953\"],[0.7777777777777778,\"#fb9f3a\"],[0.8888888888888888,\"#fdca26\"],[1.0,\"#f0f921\"]]}],\"contourcarpet\":[{\"type\":\"contourcarpet\",\"colorbar\":{\"outlinewidth\":0,\"ticks\":\"\"}}],\"contour\":[{\"type\":\"contour\",\"colorbar\":{\"outlinewidth\":0,\"ticks\":\"\"},\"colorscale\":[[0.0,\"#0d0887\"],[0.1111111111111111,\"#46039f\"],[0.2222222222222222,\"#7201a8\"],[0.3333333333333333,\"#9c179e\"],[0.4444444444444444,\"#bd3786\"],[0.5555555555555556,\"#d8576b\"],[0.6666666666666666,\"#ed7953\"],[0.7777777777777778,\"#fb9f3a\"],[0.8888888888888888,\"#fdca26\"],[1.0,\"#f0f921\"]]}],\"surface\":[{\"type\":\"surface\",\"colorbar\":{\"outlinewidth\":0,\"ticks\":\"\"},\"colorscale\":[[0.0,\"#0d0887\"],[0.1111111111111111,\"#46039f\"],[0.2222222222222222,\"#7201a8\"],[0.3333333333333333,\"#9c179e\"],[0.4444444444444444,\"#bd3786\"],[0.5555555555555556,\"#d8576b\"],[0.6666666666666666,\"#ed7953\"],[0.7777777777777778,\"#fb9f3a\"],[0.8888888888888888,\"#fdca26\"],[1.0,\"#f0f921\"]]}],\"mesh3d\":[{\"type\":\"mesh3d\",\"colorbar\":{\"outlinewidth\":0,\"ticks\":\"\"}}],\"scatter\":[{\"fillpattern\":{\"fillmode\":\"overlay\",\"size\":10,\"solidity\":0.2},\"type\":\"scatter\"}],\"parcoords\":[{\"type\":\"parcoords\",\"line\":{\"colorbar\":{\"outlinewidth\":0,\"ticks\":\"\"}}}],\"scatterpolargl\":[{\"type\":\"scatterpolargl\",\"marker\":{\"colorbar\":{\"outlinewidth\":0,\"ticks\":\"\"}}}],\"bar\":[{\"error_x\":{\"color\":\"#2a3f5f\"},\"error_y\":{\"color\":\"#2a3f5f\"},\"marker\":{\"line\":{\"color\":\"#E5ECF6\",\"width\":0.5},\"pattern\":{\"fillmode\":\"overlay\",\"size\":10,\"solidity\":0.2}},\"type\":\"bar\"}],\"scattergeo\":[{\"type\":\"scattergeo\",\"marker\":{\"colorbar\":{\"outlinewidth\":0,\"ticks\":\"\"}}}],\"scatterpolar\":[{\"type\":\"scatterpolar\",\"marker\":{\"colorbar\":{\"outlinewidth\":0,\"ticks\":\"\"}}}],\"histogram\":[{\"marker\":{\"pattern\":{\"fillmode\":\"overlay\",\"size\":10,\"solidity\":0.2}},\"type\":\"histogram\"}],\"scattergl\":[{\"type\":\"scattergl\",\"marker\":{\"colorbar\":{\"outlinewidth\":0,\"ticks\":\"\"}}}],\"scatter3d\":[{\"type\":\"scatter3d\",\"line\":{\"colorbar\":{\"outlinewidth\":0,\"ticks\":\"\"}},\"marker\":{\"colorbar\":{\"outlinewidth\":0,\"ticks\":\"\"}}}],\"scattermapbox\":[{\"type\":\"scattermapbox\",\"marker\":{\"colorbar\":{\"outlinewidth\":0,\"ticks\":\"\"}}}],\"scatterternary\":[{\"type\":\"scatterternary\",\"marker\":{\"colorbar\":{\"outlinewidth\":0,\"ticks\":\"\"}}}],\"scattercarpet\":[{\"type\":\"scattercarpet\",\"marker\":{\"colorbar\":{\"outlinewidth\":0,\"ticks\":\"\"}}}],\"carpet\":[{\"aaxis\":{\"endlinecolor\":\"#2a3f5f\",\"gridcolor\":\"white\",\"linecolor\":\"white\",\"minorgridcolor\":\"white\",\"startlinecolor\":\"#2a3f5f\"},\"baxis\":{\"endlinecolor\":\"#2a3f5f\",\"gridcolor\":\"white\",\"linecolor\":\"white\",\"minorgridcolor\":\"white\",\"startlinecolor\":\"#2a3f5f\"},\"type\":\"carpet\"}],\"table\":[{\"cells\":{\"fill\":{\"color\":\"#EBF0F8\"},\"line\":{\"color\":\"white\"}},\"header\":{\"fill\":{\"color\":\"#C8D4E3\"},\"line\":{\"color\":\"white\"}},\"type\":\"table\"}],\"barpolar\":[{\"marker\":{\"line\":{\"color\":\"#E5ECF6\",\"width\":0.5},\"pattern\":{\"fillmode\":\"overlay\",\"size\":10,\"solidity\":0.2}},\"type\":\"barpolar\"}],\"pie\":[{\"automargin\":true,\"type\":\"pie\"}]},\"layout\":{\"autotypenumbers\":\"strict\",\"colorway\":[\"#636efa\",\"#EF553B\",\"#00cc96\",\"#ab63fa\",\"#FFA15A\",\"#19d3f3\",\"#FF6692\",\"#B6E880\",\"#FF97FF\",\"#FECB52\"],\"font\":{\"color\":\"#2a3f5f\"},\"hovermode\":\"closest\",\"hoverlabel\":{\"align\":\"left\"},\"paper_bgcolor\":\"white\",\"plot_bgcolor\":\"#E5ECF6\",\"polar\":{\"bgcolor\":\"#E5ECF6\",\"angularaxis\":{\"gridcolor\":\"white\",\"linecolor\":\"white\",\"ticks\":\"\"},\"radialaxis\":{\"gridcolor\":\"white\",\"linecolor\":\"white\",\"ticks\":\"\"}},\"ternary\":{\"bgcolor\":\"#E5ECF6\",\"aaxis\":{\"gridcolor\":\"white\",\"linecolor\":\"white\",\"ticks\":\"\"},\"baxis\":{\"gridcolor\":\"white\",\"linecolor\":\"white\",\"ticks\":\"\"},\"caxis\":{\"gridcolor\":\"white\",\"linecolor\":\"white\",\"ticks\":\"\"}},\"coloraxis\":{\"colorbar\":{\"outlinewidth\":0,\"ticks\":\"\"}},\"colorscale\":{\"sequential\":[[0.0,\"#0d0887\"],[0.1111111111111111,\"#46039f\"],[0.2222222222222222,\"#7201a8\"],[0.3333333333333333,\"#9c179e\"],[0.4444444444444444,\"#bd3786\"],[0.5555555555555556,\"#d8576b\"],[0.6666666666666666,\"#ed7953\"],[0.7777777777777778,\"#fb9f3a\"],[0.8888888888888888,\"#fdca26\"],[1.0,\"#f0f921\"]],\"sequentialminus\":[[0.0,\"#0d0887\"],[0.1111111111111111,\"#46039f\"],[0.2222222222222222,\"#7201a8\"],[0.3333333333333333,\"#9c179e\"],[0.4444444444444444,\"#bd3786\"],[0.5555555555555556,\"#d8576b\"],[0.6666666666666666,\"#ed7953\"],[0.7777777777777778,\"#fb9f3a\"],[0.8888888888888888,\"#fdca26\"],[1.0,\"#f0f921\"]],\"diverging\":[[0,\"#8e0152\"],[0.1,\"#c51b7d\"],[0.2,\"#de77ae\"],[0.3,\"#f1b6da\"],[0.4,\"#fde0ef\"],[0.5,\"#f7f7f7\"],[0.6,\"#e6f5d0\"],[0.7,\"#b8e186\"],[0.8,\"#7fbc41\"],[0.9,\"#4d9221\"],[1,\"#276419\"]]},\"xaxis\":{\"gridcolor\":\"white\",\"linecolor\":\"white\",\"ticks\":\"\",\"title\":{\"standoff\":15},\"zerolinecolor\":\"white\",\"automargin\":true,\"zerolinewidth\":2},\"yaxis\":{\"gridcolor\":\"white\",\"linecolor\":\"white\",\"ticks\":\"\",\"title\":{\"standoff\":15},\"zerolinecolor\":\"white\",\"automargin\":true,\"zerolinewidth\":2},\"scene\":{\"xaxis\":{\"backgroundcolor\":\"#E5ECF6\",\"gridcolor\":\"white\",\"linecolor\":\"white\",\"showbackground\":true,\"ticks\":\"\",\"zerolinecolor\":\"white\",\"gridwidth\":2},\"yaxis\":{\"backgroundcolor\":\"#E5ECF6\",\"gridcolor\":\"white\",\"linecolor\":\"white\",\"showbackground\":true,\"ticks\":\"\",\"zerolinecolor\":\"white\",\"gridwidth\":2},\"zaxis\":{\"backgroundcolor\":\"#E5ECF6\",\"gridcolor\":\"white\",\"linecolor\":\"white\",\"showbackground\":true,\"ticks\":\"\",\"zerolinecolor\":\"white\",\"gridwidth\":2}},\"shapedefaults\":{\"line\":{\"color\":\"#2a3f5f\"}},\"annotationdefaults\":{\"arrowcolor\":\"#2a3f5f\",\"arrowhead\":0,\"arrowwidth\":1},\"geo\":{\"bgcolor\":\"white\",\"landcolor\":\"#E5ECF6\",\"subunitcolor\":\"white\",\"showland\":true,\"showlakes\":true,\"lakecolor\":\"white\"},\"title\":{\"x\":0.05},\"mapbox\":{\"style\":\"light\"}}},\"scene\":{\"domain\":{\"x\":[0.0,1.0],\"y\":[0.0,1.0]},\"xaxis\":{\"title\":{\"text\":\"PC 1\"}},\"yaxis\":{\"title\":{\"text\":\"PC 2\"}},\"zaxis\":{\"title\":{\"text\":\"PC 3\"}}},\"coloraxis\":{\"colorbar\":{\"title\":{\"text\":\"color\"}},\"colorscale\":[[0.0,\"#0d0887\"],[0.1111111111111111,\"#46039f\"],[0.2222222222222222,\"#7201a8\"],[0.3333333333333333,\"#9c179e\"],[0.4444444444444444,\"#bd3786\"],[0.5555555555555556,\"#d8576b\"],[0.6666666666666666,\"#ed7953\"],[0.7777777777777778,\"#fb9f3a\"],[0.8888888888888888,\"#fdca26\"],[1.0,\"#f0f921\"]]},\"legend\":{\"tracegroupgap\":0},\"margin\":{\"t\":60}},                        {\"responsive\": true}                    ).then(function(){\n",
       "                            \n",
       "var gd = document.getElementById('8f870030-6e2d-4941-84e7-a7d737dbf48e');\n",
       "var x = new MutationObserver(function (mutations, observer) {{\n",
       "        var display = window.getComputedStyle(gd).display;\n",
       "        if (!display || display === 'none') {{\n",
       "            console.log([gd, 'removed!']);\n",
       "            Plotly.purge(gd);\n",
       "            observer.disconnect();\n",
       "        }}\n",
       "}});\n",
       "\n",
       "// Listen for the removal of the full notebook cells\n",
       "var notebookContainer = gd.closest('#notebook-container');\n",
       "if (notebookContainer) {{\n",
       "    x.observe(notebookContainer, {childList: true});\n",
       "}}\n",
       "\n",
       "// Listen for the clearing of the current output cell\n",
       "var outputEl = gd.closest('.output');\n",
       "if (outputEl) {{\n",
       "    x.observe(outputEl, {childList: true});\n",
       "}}\n",
       "\n",
       "                        })                };                });            </script>        </div>"
      ]
     },
     "metadata": {},
     "output_type": "display_data"
    }
   ],
   "source": [
    "fig = px.scatter_3d(\n",
    "    principalComponents2, x=0, y=1, z=2, color=df['target'],\n",
    "    labels={'0': 'PC 1', '1': 'PC 2', '2': 'PC 3'}\n",
    ")\n",
    "fig.show()"
   ]
  },
  {
   "cell_type": "code",
   "execution_count": null,
   "id": "699495ff",
   "metadata": {},
   "outputs": [],
   "source": []
  },
  {
   "cell_type": "code",
   "execution_count": null,
   "id": "b9f40d0e",
   "metadata": {},
   "outputs": [],
   "source": []
  }
 ],
 "metadata": {
  "kernelspec": {
   "display_name": "Python 3 (ipykernel)",
   "language": "python",
   "name": "python3"
  },
  "language_info": {
   "codemirror_mode": {
    "name": "ipython",
    "version": 3
   },
   "file_extension": ".py",
   "mimetype": "text/x-python",
   "name": "python",
   "nbconvert_exporter": "python",
   "pygments_lexer": "ipython3",
   "version": "3.9.7"
  }
 },
 "nbformat": 4,
 "nbformat_minor": 5
}
