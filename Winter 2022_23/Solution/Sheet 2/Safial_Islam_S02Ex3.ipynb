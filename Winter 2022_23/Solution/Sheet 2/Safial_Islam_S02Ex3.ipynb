{
 "cells": [
  {
   "cell_type": "code",
   "execution_count": 1,
   "id": "9bfae987",
   "metadata": {},
   "outputs": [],
   "source": [
    "import pandas as pd\n",
    "import numpy as np\n",
    "import matplotlib.pyplot as plt"
   ]
  },
  {
   "cell_type": "code",
   "execution_count": 2,
   "id": "2aff8187",
   "metadata": {},
   "outputs": [],
   "source": [
    "df = pd.read_csv(\"wine.txt\", sep=\" \")"
   ]
  },
  {
   "cell_type": "code",
   "execution_count": 3,
   "id": "73e56dbd",
   "metadata": {},
   "outputs": [
    {
     "data": {
      "text/html": [
       "<div>\n",
       "<style scoped>\n",
       "    .dataframe tbody tr th:only-of-type {\n",
       "        vertical-align: middle;\n",
       "    }\n",
       "\n",
       "    .dataframe tbody tr th {\n",
       "        vertical-align: top;\n",
       "    }\n",
       "\n",
       "    .dataframe thead th {\n",
       "        text-align: right;\n",
       "    }\n",
       "</style>\n",
       "<table border=\"1\" class=\"dataframe\">\n",
       "  <thead>\n",
       "    <tr style=\"text-align: right;\">\n",
       "      <th></th>\n",
       "      <th>Year</th>\n",
       "      <th>Wine</th>\n",
       "      <th>Cluster</th>\n",
       "    </tr>\n",
       "  </thead>\n",
       "  <tbody>\n",
       "    <tr>\n",
       "      <th>0</th>\n",
       "      <td>1971</td>\n",
       "      <td>5.6</td>\n",
       "      <td>116.37</td>\n",
       "    </tr>\n",
       "    <tr>\n",
       "      <th>1</th>\n",
       "      <td>1973</td>\n",
       "      <td>3.2</td>\n",
       "      <td>82.77</td>\n",
       "    </tr>\n",
       "    <tr>\n",
       "      <th>2</th>\n",
       "      <td>1974</td>\n",
       "      <td>4.5</td>\n",
       "      <td>110.68</td>\n",
       "    </tr>\n",
       "    <tr>\n",
       "      <th>3</th>\n",
       "      <td>1975</td>\n",
       "      <td>4.2</td>\n",
       "      <td>97.50</td>\n",
       "    </tr>\n",
       "    <tr>\n",
       "      <th>4</th>\n",
       "      <td>1976</td>\n",
       "      <td>5.2</td>\n",
       "      <td>115.88</td>\n",
       "    </tr>\n",
       "    <tr>\n",
       "      <th>5</th>\n",
       "      <td>1977</td>\n",
       "      <td>2.7</td>\n",
       "      <td>80.19</td>\n",
       "    </tr>\n",
       "    <tr>\n",
       "      <th>6</th>\n",
       "      <td>1978</td>\n",
       "      <td>4.8</td>\n",
       "      <td>125.24</td>\n",
       "    </tr>\n",
       "    <tr>\n",
       "      <th>7</th>\n",
       "      <td>1979</td>\n",
       "      <td>4.9</td>\n",
       "      <td>116.15</td>\n",
       "    </tr>\n",
       "    <tr>\n",
       "      <th>8</th>\n",
       "      <td>1980</td>\n",
       "      <td>4.7</td>\n",
       "      <td>117.36</td>\n",
       "    </tr>\n",
       "    <tr>\n",
       "      <th>9</th>\n",
       "      <td>1981</td>\n",
       "      <td>4.1</td>\n",
       "      <td>93.31</td>\n",
       "    </tr>\n",
       "    <tr>\n",
       "      <th>10</th>\n",
       "      <td>1982</td>\n",
       "      <td>4.4</td>\n",
       "      <td>107.46</td>\n",
       "    </tr>\n",
       "    <tr>\n",
       "      <th>11</th>\n",
       "      <td>1983</td>\n",
       "      <td>5.4</td>\n",
       "      <td>122.30</td>\n",
       "    </tr>\n",
       "  </tbody>\n",
       "</table>\n",
       "</div>"
      ],
      "text/plain": [
       "    Year  Wine  Cluster\n",
       "0   1971   5.6   116.37\n",
       "1   1973   3.2    82.77\n",
       "2   1974   4.5   110.68\n",
       "3   1975   4.2    97.50\n",
       "4   1976   5.2   115.88\n",
       "5   1977   2.7    80.19\n",
       "6   1978   4.8   125.24\n",
       "7   1979   4.9   116.15\n",
       "8   1980   4.7   117.36\n",
       "9   1981   4.1    93.31\n",
       "10  1982   4.4   107.46\n",
       "11  1983   5.4   122.30"
      ]
     },
     "execution_count": 3,
     "metadata": {},
     "output_type": "execute_result"
    }
   ],
   "source": [
    "df"
   ]
  },
  {
   "cell_type": "code",
   "execution_count": 4,
   "id": "81eacf44",
   "metadata": {},
   "outputs": [
    {
     "data": {
      "text/plain": [
       "<AxesSubplot:xlabel='Cluster', ylabel='Wine'>"
      ]
     },
     "execution_count": 4,
     "metadata": {},
     "output_type": "execute_result"
    },
    {
     "data": {
      "image/png": "[encoded data removed]",
      "text/plain": [
       "<Figure size 864x360 with 1 Axes>"
      ]
     },
     "metadata": {
      "needs_background": "light"
     },
     "output_type": "display_data"
    }
   ],
   "source": [
    "df.plot.scatter(x='Cluster', y='Wine', figsize=(12, 5), s=50, linewidths=1, edgecolor='black')"
   ]
  },
  {
   "cell_type": "code",
   "execution_count": 5,
   "id": "b670b7fe",
   "metadata": {},
   "outputs": [],
   "source": [
    "x = df['Cluster']\n",
    "y = df['Wine']"
   ]
  },
  {
   "cell_type": "markdown",
   "id": "4e279e65",
   "metadata": {},
   "source": [
    "Find $\\hat{\\beta}_0$ and $\\hat{\\beta}_1$  in [1]\n",
    "\n",
    "$\\hat{\\beta}_1 = \\frac{\\sum(X_i – \\bar{X}) (Y_i – \\bar{Y})} {\\sum(X_i – \\bar{X})^2}$\n",
    "\n",
    "\n",
    "$\\hat{\\beta}_0 = \\bar{Y} – \\hat{\\beta}_1 \\bar{X}$\n",
    "\n",
    "\n",
    "[1] https://towardsdatascience.com/simple-linear-regression-in-python-numpy-only-130a988c0212"
   ]
  },
  {
   "cell_type": "code",
   "execution_count": 6,
   "id": "09acb032",
   "metadata": {},
   "outputs": [],
   "source": [
    "def linear_regression(x, y):     \n",
    "    x_mean = x.mean()\n",
    "    y_mean = y.mean()\n",
    "    \n",
    "    B1_num = ((x - x_mean) * (y - y_mean)).sum()\n",
    "    B1_den = ((x - x_mean)**2).sum()\n",
    "    B1 = B1_num / B1_den\n",
    "    \n",
    "    B0 = y_mean - (B1*x_mean)\n",
    "    \n",
    "    reg_line = 'y = {} + {}β'.format(round(B0, 3), round(B1, 3))\n",
    "    \n",
    "    return (B0, B1, reg_line)"
   ]
  },
  {
   "cell_type": "code",
   "execution_count": 7,
   "id": "ec01313b",
   "metadata": {},
   "outputs": [],
   "source": [
    "B0, B1, line = linear_regression(x, y)"
   ]
  },
  {
   "cell_type": "code",
   "execution_count": 8,
   "id": "a82f7cde",
   "metadata": {},
   "outputs": [
    {
     "name": "stdout",
     "output_type": "stream",
     "text": [
      "-1.027902709556801 0.051380577893637314 y = -1.028 + 0.051β\n",
      "Value of $\\hat{\beta}_0$ is:  -1.028\n",
      "Value of $\\hat{\beta}_1$ is:  0.051\n",
      "The line equation:  y = -1.028 + 0.051β\n"
     ]
    }
   ],
   "source": [
    "print(B0, B1, line)\n",
    "print(\"Value of $\\hat{\\beta}_0$ is: \", round(B0, 3))\n",
    "print(\"Value of $\\hat{\\beta}_1$ is: \", round(B1, 3))\n",
    "print(\"The line equation: \", line)"
   ]
  },
  {
   "cell_type": "code",
   "execution_count": 9,
   "id": "d4ebdda7",
   "metadata": {},
   "outputs": [
    {
     "data": {
      "text/plain": [
       "[<matplotlib.lines.Line2D at 0x1fd6f56c4f0>]"
      ]
     },
     "execution_count": 9,
     "metadata": {},
     "output_type": "execute_result"
    },
    {
     "data": {
      "image/png": "[encoded data removed]",
      "text/plain": [
       "<Figure size 864x360 with 1 Axes>"
      ]
     },
     "metadata": {
      "needs_background": "light"
     },
     "output_type": "display_data"
    }
   ],
   "source": [
    "plt.figure(figsize=(12,5))\n",
    "plt.scatter(x, y, s=50, linewidths=1, edgecolor='black')\n",
    "plt.xlabel('Cluster')\n",
    "plt.ylabel('Wine Production')\n",
    "plt.plot(x, B0 + B1 * x, c=\"green\")"
   ]
  },
  {
   "cell_type": "code",
   "execution_count": 10,
   "id": "24166638",
   "metadata": {},
   "outputs": [],
   "source": [
    "def predict(B0, B1, new_x):\n",
    "    y = B0 + B1 * new_x\n",
    "    return y"
   ]
  },
  {
   "cell_type": "code",
   "execution_count": 11,
   "id": "a76ff7da",
   "metadata": {},
   "outputs": [
    {
     "name": "stdout",
     "output_type": "stream",
     "text": [
      "4.11\n"
     ]
    }
   ],
   "source": [
    "new_cluster = 100\n",
    "\n",
    "predict_wine = round(predict(B0, B1, new_cluster), 3)\n",
    "print(predict_wine)"
   ]
  },
  {
   "cell_type": "markdown",
   "id": "1f37f2a8",
   "metadata": {},
   "source": [
    "When the the number of berries in a bunch of grapes is 100 then the yearly production of wine will be 4.11"
   ]
  },
  {
   "cell_type": "code",
   "execution_count": 12,
   "id": "8227388f",
   "metadata": {},
   "outputs": [
    {
     "data": {
      "image/png": "[encoded data removed]",
      "text/plain": [
       "<Figure size 864x360 with 1 Axes>"
      ]
     },
     "metadata": {
      "needs_background": "light"
     },
     "output_type": "display_data"
    }
   ],
   "source": [
    "plt.figure(figsize=(12,5))\n",
    "plt.scatter(x, y, s=50, linewidths=1, edgecolor='black')\n",
    "plt.xlabel('Cluster')\n",
    "plt.ylabel('Wine Production')\n",
    "plt.grid()\n",
    "plt.plot(x, B0 + B1 * x, c=\"green\")\n",
    "plt.plot(new_cluster, predict_wine, marker=\"*\", markersize=20, markeredgecolor=\"black\", markerfacecolor=\"red\")\n",
    "plt.show()"
   ]
  }
 ],
 "metadata": {
  "kernelspec": {
   "display_name": "Python 3 (ipykernel)",
   "language": "python",
   "name": "python3"
  },
  "language_info": {
   "codemirror_mode": {
    "name": "ipython",
    "version": 3
   },
   "file_extension": ".py",
   "mimetype": "text/x-python",
   "name": "python",
   "nbconvert_exporter": "python",
   "pygments_lexer": "ipython3",
   "version": "3.9.7"
  }
 },
 "nbformat": 4,
 "nbformat_minor": 5
}
