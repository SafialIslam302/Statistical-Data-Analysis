{
 "cells": [
  {
   "cell_type": "code",
   "execution_count": 1,
   "id": "90c34f7e",
   "metadata": {},
   "outputs": [],
   "source": [
    "import numpy as np\n",
    "import matplotlib.pyplot as plt\n",
    "import numpy.random as rnd\n",
    "from scipy.stats import beta"
   ]
  },
  {
   "cell_type": "code",
   "execution_count": 2,
   "id": "c715e706",
   "metadata": {},
   "outputs": [],
   "source": [
    "T = 1000\n",
    "R = 30\n",
    "N = 6  \n",
    "d = 0\n",
    "\n",
    "rewards_history = []\n",
    "allocation_history = []\n",
    "sum_reward_list = []\n",
    "\n",
    "mu = np.array([0.3, 0.5, 0.4, 0.45, 0.3, 0.35]) \n",
    "\n",
    "for i in range(R):\n",
    "    arms_allocation = [0] * N\n",
    "    arms_reward = [0] * N\n",
    "    total_reward = 0\n",
    "\n",
    "    for n in range(0, T):\n",
    "        max_upper_bound = 0\n",
    "        upper_bounds = [0] * N\n",
    "        lower_bounds = [0] * N\n",
    "    \n",
    "        for arm in range(0, N):\n",
    "            if arms_allocation[arm] > 0:\n",
    "                average_reward = arms_reward[arm] / arms_allocation[arm]\n",
    "                delta = np.sqrt(2 * np.log1p(d) / arms_allocation[arm])\n",
    "                upper_bound = average_reward + delta\n",
    "                lower_bound = average_reward - delta\n",
    "            else:\n",
    "                upper_bound = 1e100\n",
    "                lower_bound = 1e100\n",
    "            \n",
    "            if upper_bound > max_upper_bound:\n",
    "                max_upper_bound = upper_bound\n",
    "                chosen_arm = arm\n",
    "            \n",
    "        upper_bounds[arm] = upper_bound\n",
    "        lower_bounds[arm] = lower_bound\n",
    "            \n",
    "        arms_allocation[chosen_arm] += 1\n",
    "        action = arms_allocation[chosen_arm]\n",
    "        allocation_history.append(arms_allocation[:])\n",
    "        reward = rnd.binomial(1, mu[chosen_arm]) # when n = 1, it works like bernouli\n",
    "        arms_reward[chosen_arm] += reward\n",
    "        rewards_history.append(arms_reward[:])\n",
    "        d += 1\n",
    "\n",
    "    sum_reward_list.append(np.sum(arms_reward))"
   ]
  },
  {
   "cell_type": "code",
   "execution_count": 3,
   "id": "9715a41d",
   "metadata": {},
   "outputs": [
    {
     "name": "stdout",
     "output_type": "stream",
     "text": [
      "Time:  1  Reward:  400\n",
      "Time:  2  Reward:  421\n",
      "Time:  3  Reward:  416\n",
      "Time:  4  Reward:  422\n",
      "Time:  5  Reward:  420\n",
      "Time:  6  Reward:  425\n",
      "Time:  7  Reward:  436\n",
      "Time:  8  Reward:  420\n",
      "Time:  9  Reward:  401\n",
      "Time:  10  Reward:  415\n",
      "Time:  11  Reward:  422\n",
      "Time:  12  Reward:  427\n",
      "Time:  13  Reward:  422\n",
      "Time:  14  Reward:  426\n",
      "Time:  15  Reward:  416\n",
      "Time:  16  Reward:  415\n",
      "Time:  17  Reward:  438\n",
      "Time:  18  Reward:  438\n",
      "Time:  19  Reward:  419\n",
      "Time:  20  Reward:  441\n",
      "Time:  21  Reward:  397\n",
      "Time:  22  Reward:  423\n",
      "Time:  23  Reward:  437\n",
      "Time:  24  Reward:  404\n",
      "Time:  25  Reward:  415\n",
      "Time:  26  Reward:  404\n",
      "Time:  27  Reward:  391\n",
      "Time:  28  Reward:  417\n",
      "Time:  29  Reward:  422\n",
      "Time:  30  Reward:  428\n"
     ]
    }
   ],
   "source": [
    "for i in range(R):\n",
    "    print(\"Time: \", i+1 , \" Reward: \", sum_reward_list[i])"
   ]
  },
  {
   "cell_type": "code",
   "execution_count": 4,
   "id": "4fef7136",
   "metadata": {},
   "outputs": [],
   "source": [
    "def sum_of_list(l):\n",
    "    total = 0\n",
    "    for val in l:\n",
    "        total = total + val\n",
    "    \n",
    "    return total"
   ]
  },
  {
   "cell_type": "code",
   "execution_count": 5,
   "id": "930a1983",
   "metadata": {},
   "outputs": [
    {
     "name": "stdout",
     "output_type": "stream",
     "text": [
      "Average reward:  419.26666666666665\n"
     ]
    }
   ],
   "source": [
    "Sum = sum_of_list(sum_reward_list)\n",
    "Average = Sum/R\n",
    "print(\"Average reward: \", Average)"
   ]
  },
  {
   "cell_type": "code",
   "execution_count": null,
   "id": "af23c248",
   "metadata": {},
   "outputs": [],
   "source": []
  }
 ],
 "metadata": {
  "kernelspec": {
   "display_name": "Python 3 (ipykernel)",
   "language": "python",
   "name": "python3"
  },
  "language_info": {
   "codemirror_mode": {
    "name": "ipython",
    "version": 3
   },
   "file_extension": ".py",
   "mimetype": "text/x-python",
   "name": "python",
   "nbconvert_exporter": "python",
   "pygments_lexer": "ipython3",
   "version": "3.9.7"
  }
 },
 "nbformat": 4,
 "nbformat_minor": 5
}
