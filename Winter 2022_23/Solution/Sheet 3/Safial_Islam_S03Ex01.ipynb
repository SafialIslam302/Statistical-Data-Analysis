{
 "cells": [
  {
   "cell_type": "code",
   "execution_count": 1,
   "id": "5fe502d6",
   "metadata": {},
   "outputs": [],
   "source": [
    "import pandas as pd\n",
    "import numpy as np"
   ]
  },
  {
   "cell_type": "code",
   "execution_count": 2,
   "id": "e1d09bc2",
   "metadata": {},
   "outputs": [],
   "source": [
    "h = open('X.txt', 'r')\n",
    "\n",
    "P1 = []\n",
    "P2 = []\n",
    "P3 = []\n",
    "\n",
    "for line in h:\n",
    "    currentline = line.split(\",\")\n",
    "    P1.append(float(currentline[0]))\n",
    "    P2.append(float(currentline[1]))\n",
    "    P3.append(float(currentline[2]))\n",
    "\n",
    "X_df = pd.DataFrame(\n",
    "    {'X_1': P1,\n",
    "     'X_2': P2,\n",
    "     'X_3': P3\n",
    "    })\n",
    "\n",
    "# Add a column of 1s (First column) to the observations matrix as it will help us estimate the parameter that \n",
    "# corresponds to the intercept of the model — the matrix X\n",
    "\n",
    "X_df.insert(0, 'X_0', 1)\n",
    "\n",
    "X_Final = X_df.to_numpy()"
   ]
  },
  {
   "cell_type": "code",
   "execution_count": 3,
   "id": "6f9c1b24",
   "metadata": {},
   "outputs": [],
   "source": [
    "h = open('Y.txt', 'r')\n",
    "\n",
    "Y_list = []\n",
    "\n",
    "for line in h:\n",
    "    Y_list.append(float(line))\n",
    "    \n",
    "Y_temp = pd.Series(Y_list)\n",
    "Y = Y_temp.values.reshape(201, 1)"
   ]
  },
  {
   "cell_type": "markdown",
   "id": "b1b1d237",
   "metadata": {},
   "source": [
    "Estimate of $\\hat{\\beta}=\\left ( X^TX\\right)^{-1}X^TY$"
   ]
  },
  {
   "cell_type": "code",
   "execution_count": 4,
   "id": "1facae49",
   "metadata": {},
   "outputs": [],
   "source": [
    "X_T = X_Final.transpose()\n",
    "\n",
    "temp_1 = np.dot(X_T, X_df) # (X^T * X)\n",
    "\n",
    "temp_2 = np.linalg.inv(temp_1) # (X^T * X)^(-1)\n",
    "\n",
    "temp_3 = np.dot(X_T, Y) # X^T * Y\n",
    "\n",
    "Beta_hat = np.dot(temp_2, temp_3) # (X^T * X)^(-1) * X^T"
   ]
  },
  {
   "cell_type": "code",
   "execution_count": 5,
   "id": "735fd362",
   "metadata": {},
   "outputs": [
    {
     "name": "stdout",
     "output_type": "stream",
     "text": [
      "[[-0.00800698]\n",
      " [ 0.88161162]\n",
      " [-2.45938171]\n",
      " [-0.97715699]]\n"
     ]
    }
   ],
   "source": [
    "print(Beta_hat)"
   ]
  },
  {
   "cell_type": "markdown",
   "id": "ebc8d5fc",
   "metadata": {},
   "source": [
    "Here $\\beta_0$ = -0.00800698, $\\beta_1$ = 0.88161162, $\\beta_2$ = -2.45938171, $\\beta_3$ = -0.97715699, for them $\\beta_0$ is the slope."
   ]
  },
  {
   "cell_type": "markdown",
   "id": "2fe0dacc",
   "metadata": {},
   "source": [
    "The ML-estimator of the unknown parameters $\\sigma^{2}$ is $\\hat{\\sigma}^{2}_{ML} = \\frac{\\hat{\\epsilon} \\hat{\\epsilon}}{n}$ where $\\hat{\\epsilon} = y - X\\hat{\\beta}$"
   ]
  },
  {
   "cell_type": "code",
   "execution_count": 6,
   "id": "00a491ce",
   "metadata": {},
   "outputs": [],
   "source": [
    "n = 201\n",
    "\n",
    "epsilon = Y - np.dot(X_Final, Beta_hat) # y - X * beta_hat\n",
    "epsilon_mul = np.vdot(epsilon, epsilon) # dot product of epsilon and epsilon\n",
    "sigma_square_ML = epsilon_mul / n # divided by n"
   ]
  },
  {
   "cell_type": "code",
   "execution_count": 7,
   "id": "1a8b1b2d",
   "metadata": {},
   "outputs": [
    {
     "name": "stdout",
     "output_type": "stream",
     "text": [
      "0.9548405627555108\n"
     ]
    }
   ],
   "source": [
    "print(sigma_square_ML)"
   ]
  },
  {
   "cell_type": "markdown",
   "id": "663bf042",
   "metadata": {},
   "source": [
    "The estimate of $\\sigma$ is called the sample standard error of the residuals.\n",
    "\n",
    "A high standard error shows that sample means are widely spread around the population mean i.e. sample may not closely represent the population. A low standard error shows that sample means are closely distributed around the population mean i.e. sample is representative of the population.\n",
    "\n",
    "For our case, the value is 0.955, accroding to this artcile [1] the value is acceptable.\n",
    "\n",
    "[1] Tighe, J., McManus, I., Dewhurst, N.G. et al. The standard error of measurement is a more appropriate measure of quality for postgraduate medical assessments than is reliability: an analysis of MRCP(UK) examinations. BMC Med Educ 10, 40 (2010). https://doi.org/10.1186/1472-6920-10-40"
   ]
  },
  {
   "cell_type": "markdown",
   "id": "7964ac25",
   "metadata": {},
   "source": [
    "The adjusted estimator $\\hat{\\sigma}^{2}_{ad} = \\frac{y^{T} y - \\hat{\\beta^{T}}X^{T}y}{n - p - 1} $"
   ]
  },
  {
   "cell_type": "code",
   "execution_count": 8,
   "id": "ad2beae4",
   "metadata": {},
   "outputs": [],
   "source": [
    "p = 3\n",
    "\n",
    "Y_T = Y.transpose()\n",
    "\n",
    "Beta_hat_T = Beta_hat.transpose() \n",
    "\n",
    "t_1 = np.matmul(Y_T, Y) # Y^T * Y\n",
    "\n",
    "t_2 = np.matmul(Beta_hat_T, X_T) # Beta^T * X^T \n",
    "\n",
    "t_3 = np.matmul(t_2, Y) # Beta^T * X^T * y\n",
    "\n",
    "t_4 = n - p - 1\n",
    "\n",
    "sigma_ad = ((t_1 - t_3) / t_4).squeeze() #squeeze() for convert dataframe to series"
   ]
  },
  {
   "cell_type": "code",
   "execution_count": 9,
   "id": "e11d0e73",
   "metadata": {},
   "outputs": [
    {
     "name": "stdout",
     "output_type": "stream",
     "text": [
      "0.9742281883952163\n"
     ]
    }
   ],
   "source": [
    "print(sigma_ad)"
   ]
  },
  {
   "cell_type": "markdown",
   "id": "b9403147",
   "metadata": {},
   "source": [
    "We got the $\\hat{\\sigma}^{2}_{ad}$ = 0.974, which is also very small and acceptable. "
   ]
  }
 ],
 "metadata": {
  "celltoolbar": "Slideshow",
  "kernelspec": {
   "display_name": "Python 3 (ipykernel)",
   "language": "python",
   "name": "python3"
  },
  "language_info": {
   "codemirror_mode": {
    "name": "ipython",
    "version": 3
   },
   "file_extension": ".py",
   "mimetype": "text/x-python",
   "name": "python",
   "nbconvert_exporter": "python",
   "pygments_lexer": "ipython3",
   "version": "3.9.7"
  }
 },
 "nbformat": 4,
 "nbformat_minor": 5
}
