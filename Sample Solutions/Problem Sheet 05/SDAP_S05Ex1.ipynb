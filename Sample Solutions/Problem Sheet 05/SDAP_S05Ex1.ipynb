{
 "cells": [
  {
   "cell_type": "markdown",
   "metadata": {
    "id": "Sb42QxYPutqm"
   },
   "source": [
    "### Contributors:\n",
    "- Mikhail Stepanov (mikhail.stepanov@uni-potsdam.de)\n",
    "- Burak Kurucu (burak.kurucu@uni-potsdam.de)\n",
    "- Md Shafayet Hossen Chowdhury (md.shafayet.hossen.chowdhury@uni-potsdam.de)\n",
    "- Mohammad Yakub (mohammad.yakub@uni-potsdam.de)"
   ]
  },
  {
   "cell_type": "markdown",
   "metadata": {
    "id": "SqwUCylJu2BG"
   },
   "source": [
    "**Sheet 5. Exercise 1**"
   ]
  },
  {
   "cell_type": "code",
   "execution_count": 1,
   "metadata": {
    "id": "O-ZhtcCCusqu"
   },
   "outputs": [],
   "source": [
    "import pandas as pd\n",
    "import numpy as np\n",
    "import matplotlib.pyplot as plt\n",
    "from scipy.stats import norm\n",
    "import statistics"
   ]
  },
  {
   "cell_type": "code",
   "execution_count": 2,
   "metadata": {
    "id": "15hDJjYaZi0P"
   },
   "outputs": [],
   "source": [
    "#load the data\n",
    "x = pd.read_csv(\"X.txt\", header = None) \n",
    "y = pd.read_csv(\"Y.txt\", header = None)"
   ]
  },
  {
   "cell_type": "code",
   "execution_count": 3,
   "metadata": {
    "colab": {
     "base_uri": "https://localhost:8080/"
    },
    "id": "nJRVZFepbEPP",
    "outputId": "2e784c38-1dd1-4c8d-c173-35d8ced7830e"
   },
   "outputs": [
    {
     "data": {
      "text/plain": [
       "(201, 3)"
      ]
     },
     "execution_count": 3,
     "metadata": {},
     "output_type": "execute_result"
    }
   ],
   "source": [
    "#We have 201 three dimensional samples \n",
    "x.shape"
   ]
  },
  {
   "cell_type": "code",
   "execution_count": 4,
   "metadata": {
    "colab": {
     "base_uri": "https://localhost:8080/",
     "height": 423
    },
    "id": "4xO3QCmwbHq_",
    "outputId": "24488e3f-3761-4441-ca6e-db9ae63d1111"
   },
   "outputs": [
    {
     "data": {
      "text/html": [
       "<div>\n",
       "<style scoped>\n",
       "    .dataframe tbody tr th:only-of-type {\n",
       "        vertical-align: middle;\n",
       "    }\n",
       "\n",
       "    .dataframe tbody tr th {\n",
       "        vertical-align: top;\n",
       "    }\n",
       "\n",
       "    .dataframe thead th {\n",
       "        text-align: right;\n",
       "    }\n",
       "</style>\n",
       "<table border=\"1\" class=\"dataframe\">\n",
       "  <thead>\n",
       "    <tr style=\"text-align: right;\">\n",
       "      <th></th>\n",
       "      <th>0</th>\n",
       "    </tr>\n",
       "  </thead>\n",
       "  <tbody>\n",
       "    <tr>\n",
       "      <th>0</th>\n",
       "      <td>7.2510</td>\n",
       "    </tr>\n",
       "    <tr>\n",
       "      <th>1</th>\n",
       "      <td>7.7268</td>\n",
       "    </tr>\n",
       "    <tr>\n",
       "      <th>2</th>\n",
       "      <td>7.3337</td>\n",
       "    </tr>\n",
       "    <tr>\n",
       "      <th>3</th>\n",
       "      <td>6.7290</td>\n",
       "    </tr>\n",
       "    <tr>\n",
       "      <th>4</th>\n",
       "      <td>8.1624</td>\n",
       "    </tr>\n",
       "    <tr>\n",
       "      <th>...</th>\n",
       "      <td>...</td>\n",
       "    </tr>\n",
       "    <tr>\n",
       "      <th>196</th>\n",
       "      <td>-3.2103</td>\n",
       "    </tr>\n",
       "    <tr>\n",
       "      <th>197</th>\n",
       "      <td>-2.2827</td>\n",
       "    </tr>\n",
       "    <tr>\n",
       "      <th>198</th>\n",
       "      <td>-1.8519</td>\n",
       "    </tr>\n",
       "    <tr>\n",
       "      <th>199</th>\n",
       "      <td>-2.3600</td>\n",
       "    </tr>\n",
       "    <tr>\n",
       "      <th>200</th>\n",
       "      <td>-2.5046</td>\n",
       "    </tr>\n",
       "  </tbody>\n",
       "</table>\n",
       "<p>201 rows × 1 columns</p>\n",
       "</div>"
      ],
      "text/plain": [
       "          0\n",
       "0    7.2510\n",
       "1    7.7268\n",
       "2    7.3337\n",
       "3    6.7290\n",
       "4    8.1624\n",
       "..      ...\n",
       "196 -3.2103\n",
       "197 -2.2827\n",
       "198 -1.8519\n",
       "199 -2.3600\n",
       "200 -2.5046\n",
       "\n",
       "[201 rows x 1 columns]"
      ]
     },
     "execution_count": 4,
     "metadata": {},
     "output_type": "execute_result"
    }
   ],
   "source": [
    "# length of y is 201\n",
    "y"
   ]
  },
  {
   "cell_type": "markdown",
   "metadata": {
    "id": "dMwp2AS5WAtQ"
   },
   "source": [
    "The idea of linear regression method is using the observations\n",
    "from the previous experiment find such linear model, that fits our data in the best way, in order to predict the future values. For this purpose, we have to find the best coefficients betta for our fit. If our data matrix X has a full rank p+1 betta_hat can be found using equation 10 from the lecture 10 \n",
    "(slide 11). Since our vector of coefficients betta has the length \n",
    "(p + 1), because of b_0, that is slope, we have to add a column of ones at the \n",
    "beginning of the matrix X. "
   ]
  },
  {
   "cell_type": "code",
   "execution_count": 5,
   "metadata": {
    "colab": {
     "base_uri": "https://localhost:8080/"
    },
    "id": "qxT5Bso4hpIc",
    "outputId": "c6d415c4-1240-41e3-da76-2a4c4e99066e"
   },
   "outputs": [
    {
     "name": "stdout",
     "output_type": "stream",
     "text": [
      "y shape (201, 1)\n",
      "x shape (201, 3)\n",
      "x_new shape (201, 4)\n"
     ]
    }
   ],
   "source": [
    "x = np.asarray(x)\n",
    "ones  = np.ones(x.shape[0]) \n",
    "\n",
    "#matrix X with onces in the first column\n",
    "x_ones = np.insert(x, 0, ones, axis = 1) \n",
    "y = np.asarray(y)\n",
    "print(\"y shape\", y.shape)\n",
    "print(\"x shape\", x.shape)\n",
    "print(\"x_new shape\", x_ones.shape)"
   ]
  },
  {
   "cell_type": "code",
   "execution_count": 6,
   "metadata": {
    "colab": {
     "base_uri": "https://localhost:8080/"
    },
    "id": "a2pqMmNMfL7z",
    "outputId": "57c374b6-ed7b-4519-a79e-e1d42545ea55"
   },
   "outputs": [
    {
     "name": "stdout",
     "output_type": "stream",
     "text": [
      "True\n"
     ]
    }
   ],
   "source": [
    "#Verify, that matrix X_ones has a full rank p + 1\n",
    "#Yes, the matrix has a full rank and we can use the equestion from the lecture \n",
    "print(np.linalg.matrix_rank(x_ones) == x_ones.shape[-1])"
   ]
  },
  {
   "cell_type": "code",
   "execution_count": 7,
   "metadata": {
    "id": "yNskHBBXbJxP"
   },
   "outputs": [],
   "source": [
    "#In this function we compute an estimate of betta_hat, using the equestion \n",
    "#from the lecture\n",
    "def betta(x, y): \n",
    "    x_tx = np.dot(x.T, x)               # X_t*X\n",
    "    x_tx_1 = np.linalg.inv(x_tx)        #(X_t*X)^-1 \n",
    "    x_tx_1_x_t = np.dot(x_tx_1, x.T)    #(X_t*X)^-1 * X_t\n",
    "    return np.dot(x_tx_1_x_t, y)        #betta = (X_t*X)^-1 * X_t * y\n",
    "\n",
    "#In this function we compute an estimate of sigma square given betta square \n",
    "#using the equestion from the lecture 10 (slide 18) \n",
    "#This function not only calculates the sigma square, but also returns epsilon \n",
    "#that shows all deviations between true values y and our estimated y_hat\n",
    "def sigma_sq(y, x, betta):\n",
    "    n = len(y) \n",
    "    epsilon = y - np.dot(x, betta)\n",
    "    return epsilon, (np.dot(epsilon.T, epsilon)/n)[0][0]\n",
    "\n",
    "#This function computes an estimate of the adjust sigma square \n",
    "#(lecture 10, slide 23)\n",
    "def sigma_sq_ad(y, x, betta):\n",
    "    n = len(y)\n",
    "    p = x.shape[-1] - 1\n",
    "    return ((np.dot(y.T, y) - np.dot(np.dot(betta.T, x.T), y))/(n-p-1))[0][0]   "
   ]
  },
  {
   "cell_type": "code",
   "execution_count": 8,
   "metadata": {
    "colab": {
     "base_uri": "https://localhost:8080/"
    },
    "id": "2C2kwfuon3m-",
    "outputId": "dcb3a2dc-d191-4175-8179-34ac74121d66"
   },
   "outputs": [
    {
     "name": "stdout",
     "output_type": "stream",
     "text": [
      "betta_hat [[-0.00800698]\n",
      " [ 0.88161162]\n",
      " [-2.45938171]\n",
      " [-0.97715699]]\n"
     ]
    }
   ],
   "source": [
    "betta_hat = betta(x_ones, y)\n",
    "print(\"betta_hat\", betta_hat)"
   ]
  },
  {
   "cell_type": "markdown",
   "metadata": {
    "id": "EA28l6zbZRXv"
   },
   "source": [
    "Our betta_hat is as expected 4-dimensional, where b_0 is the slope. Since after the calculation we have gotten betta, that has correct dimensionality, we assume, that our calculation was correct."
   ]
  },
  {
   "cell_type": "code",
   "execution_count": 9,
   "metadata": {
    "colab": {
     "base_uri": "https://localhost:8080/"
    },
    "id": "oOSg3waFYyQX",
    "outputId": "3b6d8139-c196-4ede-9c73-c76a48d2cacc"
   },
   "outputs": [
    {
     "name": "stdout",
     "output_type": "stream",
     "text": [
      "sigma square 0.9548405627555105\n"
     ]
    }
   ],
   "source": [
    "eps, sig_sq = sigma_sq(y, x_ones, betta_hat)\n",
    "print(\"sigma square\", sig_sq)"
   ]
  },
  {
   "cell_type": "markdown",
   "metadata": {
    "id": "LhkTSzEeZQuH"
   },
   "source": [
    "Sigma square is the mean squared error between y and y_hat, using the best estimator for betta_hat. The smaller this value is, the better is our estimator, because the smaller the MSE is, the better our estimator fits the data. In our case we have the value that even less than one, what we find as pretty good result (MSE can take values between 0 and infinity)."
   ]
  },
  {
   "cell_type": "code",
   "execution_count": 10,
   "metadata": {
    "colab": {
     "base_uri": "https://localhost:8080/"
    },
    "id": "CIRb4p7tY_mJ",
    "outputId": "cf816a6f-3ac3-4a87-e96c-6d0932055c66"
   },
   "outputs": [
    {
     "name": "stdout",
     "output_type": "stream",
     "text": [
      "sigma square adjusted 0.974228188395214\n"
     ]
    }
   ],
   "source": [
    "print(\"sigma square adjusted\", sigma_sq_ad(y, x_ones, betta_hat))"
   ]
  },
  {
   "cell_type": "markdown",
   "metadata": {
    "id": "gp24sSJ-ZS4o"
   },
   "source": [
    "The value of adjusted sigma square is a little bit larger then of the sigma square. But also here we have a relatively small value. "
   ]
  },
  {
   "cell_type": "code",
   "execution_count": 11,
   "metadata": {
    "colab": {
     "base_uri": "https://localhost:8080/",
     "height": 279
    },
    "id": "eWJGktKdYsPB",
    "outputId": "15acad65-d131-46cc-9ae8-939ba285855f"
   },
   "outputs": [
    {
     "data": {
      "image/png": "[encoded data removed]",
      "text/plain": [
       "<Figure size 432x288 with 1 Axes>"
      ]
     },
     "metadata": {
      "needs_background": "light"
     },
     "output_type": "display_data"
    }
   ],
   "source": [
    "#In this part we wanted to look at the destribution of our errors \n",
    "#(deviatons between true y and y_hat). We excpected that our errors distributed \n",
    "#according to the normal distribution with mean of 0 and variance of 1. \n",
    "#It means, that the most of deviations between y and y_hat are near to zero and \n",
    "#since the model is not absolutely ideal we also excpect, that some of the \n",
    "#estimated vaules are more different from the true y. \n",
    "#We could conclude, that our result is pretty good and the destribution \n",
    "#of errors is indead similar to the normal distribution N(0,1), \n",
    "#as shown in the plot below.\n",
    "\n",
    "eps = eps.reshape(1, len(eps))[0]\n",
    "x_ax   = np.linspace(-3, 3, 1000)\n",
    "mean = 0\n",
    "var = 1\n",
    "#normal distribution with 0 mean and variance of 1\n",
    "plt.scatter(x_ax, norm.pdf(x_ax, mean, var))  \n",
    "plt.hist(eps, density=True, alpha=0.6, color='b')\n",
    "plt.xlabel(\"Errors epsilon\")\n",
    "plt.ylabel(\"Ratio of errors\") \n",
    "plt.show()"
   ]
  }
 ],
 "metadata": {
  "colab": {
   "name": "SDAP_S05Ex1.ipynb",
   "provenance": []
  },
  "kernelspec": {
   "display_name": "Python 3",
   "language": "python",
   "name": "python3"
  },
  "language_info": {
   "codemirror_mode": {
    "name": "ipython",
    "version": 3
   },
   "file_extension": ".py",
   "mimetype": "text/x-python",
   "name": "python",
   "nbconvert_exporter": "python",
   "pygments_lexer": "ipython3",
   "version": "3.8.8"
  }
 },
 "nbformat": 4,
 "nbformat_minor": 1
}
