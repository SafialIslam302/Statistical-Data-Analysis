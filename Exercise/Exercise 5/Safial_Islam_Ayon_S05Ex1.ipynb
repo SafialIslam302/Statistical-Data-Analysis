{
 "cells": [
  {
   "cell_type": "code",
   "execution_count": 8,
   "id": "5fe502d6",
   "metadata": {},
   "outputs": [],
   "source": [
    "import pandas as pd\n",
    "import numpy as np\n",
    "from matplotlib import pyplot as plt"
   ]
  },
  {
   "cell_type": "code",
   "execution_count": 9,
   "id": "e1d09bc2",
   "metadata": {},
   "outputs": [],
   "source": [
    "h = open('X.txt', 'r')\n",
    "\n",
    "P1 = []\n",
    "P2 = []\n",
    "P3 = []\n",
    "\n",
    "for line in h:\n",
    "    currentline = line.split(\",\")\n",
    "    P1.append(float(currentline[0]))\n",
    "    P2.append(float(currentline[1]))\n",
    "    P3.append(float(currentline[2]))\n",
    "\n",
    "X_df = pd.DataFrame(\n",
    "    {'X_1': P1,\n",
    "     'X_2': P2,\n",
    "     'X_3': P3\n",
    "    })\n",
    "\n",
    "X_df.insert(0, 'X_0', 1)"
   ]
  },
  {
   "cell_type": "code",
   "execution_count": 10,
   "id": "6f9c1b24",
   "metadata": {},
   "outputs": [],
   "source": [
    "h = open('Y.txt', 'r')\n",
    "\n",
    "Y_list = []\n",
    "\n",
    "for line in h:\n",
    "    Y_list.append(float(line))\n",
    "    \n",
    "Y_temp = pd.Series(Y_list)\n",
    "Y = Y_temp.values.reshape(201, 1)"
   ]
  },
  {
   "cell_type": "code",
   "execution_count": 11,
   "id": "1facae49",
   "metadata": {},
   "outputs": [
    {
     "name": "stdout",
     "output_type": "stream",
     "text": [
      "[[-0.00800698]\n",
      " [ 0.88161162]\n",
      " [-2.45938171]\n",
      " [-0.97715699]]\n"
     ]
    }
   ],
   "source": [
    "X_T = X_df.transpose()\n",
    "\n",
    "temp_1 = np.dot(X_T, X_df) #(X^T * X)\n",
    "\n",
    "temp_2 = np.linalg.inv(temp_1) #(X^T * X)^(-1)\n",
    "\n",
    "temp_3 = np.dot(X_T, Y) #X^T * Y\n",
    "\n",
    "Beta_hat = np.dot(temp_2, temp_3) #(X^T * X)^(-1) * X^T\n",
    "\n",
    "print(Beta_hat)"
   ]
  },
  {
   "cell_type": "code",
   "execution_count": 12,
   "id": "00a491ce",
   "metadata": {},
   "outputs": [
    {
     "name": "stdout",
     "output_type": "stream",
     "text": [
      "0.9800995024875622\n"
     ]
    }
   ],
   "source": [
    "n = 201\n",
    "p = 3\n",
    "sigma = 1\n",
    "\n",
    "sigma_hat = ((n-p-1)/n)*sigma\n",
    "\n",
    "print(sigma_hat)"
   ]
  },
  {
   "cell_type": "code",
   "execution_count": 24,
   "id": "ad2beae4",
   "metadata": {},
   "outputs": [
    {
     "name": "stdout",
     "output_type": "stream",
     "text": [
      "0.9742281883952185\n"
     ]
    }
   ],
   "source": [
    "Y_T = Y.transpose()\n",
    "Beta_hat_T = Beta_hat.transpose() \n",
    "\n",
    "t_1 = np.matmul(Y_T, Y)\n",
    "\n",
    "t_2 = np.matmul(Beta_hat_T, X_T)\n",
    "\n",
    "t_3 = np.matmul(t_2, Y)\n",
    "\n",
    "t_4 = n - p - 1\n",
    "\n",
    "sigma_ad = ((t_1 - t_3) / t_4).squeeze() #squeeze() for convert dataframe to series\n",
    "\n",
    "print(sigma_ad)"
   ]
  }
 ],
 "metadata": {
  "celltoolbar": "Slideshow",
  "kernelspec": {
   "display_name": "Python 3",
   "language": "python",
   "name": "python3"
  },
  "language_info": {
   "codemirror_mode": {
    "name": "ipython",
    "version": 3
   },
   "file_extension": ".py",
   "mimetype": "text/x-python",
   "name": "python",
   "nbconvert_exporter": "python",
   "pygments_lexer": "ipython3",
   "version": "3.8.8"
  }
 },
 "nbformat": 4,
 "nbformat_minor": 5
}
