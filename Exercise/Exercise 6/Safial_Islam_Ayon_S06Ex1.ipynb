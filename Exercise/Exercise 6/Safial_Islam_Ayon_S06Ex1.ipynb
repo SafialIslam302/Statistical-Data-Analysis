{
 "cells": [
  {
   "cell_type": "code",
   "execution_count": 108,
   "id": "5fe502d6",
   "metadata": {},
   "outputs": [],
   "source": [
    "import pandas as pd\n",
    "import numpy as np\n",
    "import itertools\n",
    "from matplotlib import pyplot as plt"
   ]
  },
  {
   "cell_type": "code",
   "execution_count": 109,
   "id": "e1d09bc2",
   "metadata": {},
   "outputs": [],
   "source": [
    "h = open('X_potential_drivers.txt', 'r')\n",
    "\n",
    "P1 = []\n",
    "P2 = []\n",
    "P3 = []\n",
    "P4 = []\n",
    "P5 = []\n",
    "\n",
    "for line in h:\n",
    "    currentline = line.split(\",\")\n",
    "    P1.append(float(currentline[0]))\n",
    "    P2.append(float(currentline[1]))\n",
    "    P3.append(float(currentline[2]))\n",
    "    P4.append(currentline[3])\n",
    "    P5.append(float(currentline[4]))\n",
    "    \n",
    "X_df = pd.DataFrame(\n",
    "    {'X_1': P1,\n",
    "     'X_2': P2,\n",
    "     'X_3': P3,\n",
    "     'X_4': P4,\n",
    "     'X_5': P5\n",
    "    })\n"
   ]
  },
  {
   "cell_type": "code",
   "execution_count": 110,
   "id": "6f9c1b24",
   "metadata": {},
   "outputs": [],
   "source": [
    "h = open('Y_snow.txt', 'r')\n",
    "\n",
    "Y_list = []\n",
    "\n",
    "for line in h:\n",
    "    Y_list.append(float(line))\n",
    "    \n",
    "Y_df = pd.DataFrame(Y)\n",
    "\n",
    "X_df['Y'] = Y_df[0]"
   ]
  },
  {
   "cell_type": "code",
   "execution_count": 111,
   "id": "fc275557",
   "metadata": {},
   "outputs": [],
   "source": [
    "X_df['X_4'] = X_df['X_4'].apply(lambda x: x.replace(\"i\", \"j\"))\n",
    "X_df['X_4'] = X_df['X_4'].astype(complex)\n",
    "P4 = X_df['X_4'].values"
   ]
  },
  {
   "cell_type": "code",
   "execution_count": 112,
   "id": "c640f8e7",
   "metadata": {},
   "outputs": [
    {
     "name": "stdout",
     "output_type": "stream",
     "text": [
      "beta_1 = -1.1411793788187148\n",
      "beta_2 = 0.24989686886525742\n",
      "beta_3 = -11.471093859317277\n",
      "beta_4 = (nan+nanj)\n",
      "beta_5 = -1.9222450361685883\n"
     ]
    },
    {
     "name": "stderr",
     "output_type": "stream",
     "text": [
      "<ipython-input-112-82ce198ea6cb>:7: RuntimeWarning: invalid value encountered in cdouble_scalars\n",
      "  beta = np.dot(1/(np.dot(var.T , var)) , np.dot(var.T , Y))\n"
     ]
    }
   ],
   "source": [
    "variable = [P1, P2, P3, P4, P5]\n",
    "\n",
    "i = 0\n",
    "\n",
    "for var in variable:\n",
    "    var = np.array(var)\n",
    "    beta = np.dot(1/(np.dot(var.T , var)) , np.dot(var.T , Y))\n",
    "    print(f'beta_{i + 1} = {beta}')\n",
    "    residual = Y - np.dot(var, beta)\n",
    "    i += 1\n"
   ]
  },
  {
   "cell_type": "code",
   "execution_count": 113,
   "id": "bdc95ede",
   "metadata": {},
   "outputs": [],
   "source": [
    "#https://www.kite.com/python/answers/how-to-find-all-combinations-of-a-list-in-python\n",
    "X_i = ['P1', 'P2', 'P3', 'P4', 'P5']\n",
    "\n",
    "all_combinations = []\n",
    "for r in range(len(X_i) + 1):\n",
    "    combinations_object = itertools.combinations(X_i, r)\n",
    "    combinations_list = list(combinations_object)\n",
    "    all_combinations += combinations_list\n",
    "    \n",
    "X_I = {\n",
    "    'P1':P1,\n",
    "    'P2':P2,\n",
    "    'P3':P3,\n",
    "    'P4':P4,\n",
    "    'P5':P5\n",
    "}\n"
   ]
  },
  {
   "cell_type": "code",
   "execution_count": 114,
   "id": "e951c83d",
   "metadata": {},
   "outputs": [
    {
     "name": "stdout",
     "output_type": "stream",
     "text": [
      "Coeffcient of determination:  -0.005059395959965407\n",
      "Corrected Coeffcient of determination -0.010109945688407285\n",
      "Coeffcient of determination:  -0.1669588282715222\n",
      "Corrected Coeffcient of determination -0.1728229429864543\n",
      "Coeffcient of determination:  0.8136862610481925\n",
      "Corrected Coeffcient of determination 0.8127500111037111\n",
      "Coeffcient of determination:  (nan+nanj)\n",
      "Corrected Coeffcient of determination (nan+nanj)\n",
      "Coeffcient of determination:  0.9855955010311938\n",
      "Corrected Coeffcient of determination 0.9855231166142651\n",
      "Coeffcient of determination:  -0.005059395959965407\n",
      "Corrected Coeffcient of determination -0.010109945688407285\n",
      "Coeffcient of determination:  -0.005059395959965407\n",
      "Corrected Coeffcient of determination -0.010109945688407285\n",
      "Coeffcient of determination:  -0.005059395959965407\n",
      "Corrected Coeffcient of determination -0.010109945688407285\n",
      "Coeffcient of determination:  -0.005059395959965407\n",
      "Corrected Coeffcient of determination -0.010109945688407285\n",
      "Coeffcient of determination:  -0.1669588282715222\n",
      "Corrected Coeffcient of determination -0.1728229429864543\n",
      "Coeffcient of determination:  -0.1669588282715222\n",
      "Corrected Coeffcient of determination -0.1728229429864543\n",
      "Coeffcient of determination:  -0.1669588282715222\n",
      "Corrected Coeffcient of determination -0.1728229429864543\n",
      "Coeffcient of determination:  0.8136862610481925\n",
      "Corrected Coeffcient of determination 0.8127500111037111\n",
      "Coeffcient of determination:  0.8136862610481925\n",
      "Corrected Coeffcient of determination 0.8127500111037111\n",
      "Coeffcient of determination:  (nan+nanj)\n",
      "Corrected Coeffcient of determination (nan+nanj)\n",
      "Coeffcient of determination:  -0.005059395959965407\n",
      "Corrected Coeffcient of determination -0.010109945688407285\n",
      "Coeffcient of determination:  -0.005059395959965407\n",
      "Corrected Coeffcient of determination -0.010109945688407285\n",
      "Coeffcient of determination:  -0.005059395959965407\n",
      "Corrected Coeffcient of determination -0.010109945688407285\n",
      "Coeffcient of determination:  -0.005059395959965407\n",
      "Corrected Coeffcient of determination -0.010109945688407285\n",
      "Coeffcient of determination:  -0.005059395959965407\n",
      "Corrected Coeffcient of determination -0.010109945688407285\n",
      "Coeffcient of determination:  -0.005059395959965407\n",
      "Corrected Coeffcient of determination -0.010109945688407285\n",
      "Coeffcient of determination:  -0.1669588282715222\n",
      "Corrected Coeffcient of determination -0.1728229429864543\n",
      "Coeffcient of determination:  -0.1669588282715222\n",
      "Corrected Coeffcient of determination -0.1728229429864543\n",
      "Coeffcient of determination:  -0.1669588282715222\n",
      "Corrected Coeffcient of determination -0.1728229429864543\n",
      "Coeffcient of determination:  0.8136862610481925\n",
      "Corrected Coeffcient of determination 0.8127500111037111\n",
      "Coeffcient of determination:  -0.005059395959965407\n",
      "Corrected Coeffcient of determination -0.010109945688407285\n",
      "Coeffcient of determination:  -0.005059395959965407\n",
      "Corrected Coeffcient of determination -0.010109945688407285\n",
      "Coeffcient of determination:  -0.005059395959965407\n",
      "Corrected Coeffcient of determination -0.010109945688407285\n",
      "Coeffcient of determination:  -0.005059395959965407\n",
      "Corrected Coeffcient of determination -0.010109945688407285\n",
      "Coeffcient of determination:  -0.1669588282715222\n",
      "Corrected Coeffcient of determination -0.1728229429864543\n",
      "Coeffcient of determination:  -0.005059395959965407\n",
      "Corrected Coeffcient of determination -0.010109945688407285\n"
     ]
    }
   ],
   "source": [
    "for c in all_combinations[1:]:\n",
    "    length = len(combination)\n",
    "    X = pd.DataFrame()\n",
    "    \n",
    "    if length == 1:\n",
    "        X['1'] = X_I[c[0]]\n",
    "        X = X.values\n",
    "        #print(type(X))\n",
    "    elif length == 2:\n",
    "        X['1'] = X_I[c[0]]\n",
    "        X['2'] = X_I[c[1]]\n",
    "        X = X.values\n",
    "    elif length == 3:\n",
    "        X['1'] = X_I[c[0]]\n",
    "        X['2'] = X_I[c[1]]\n",
    "        X['3'] = X_I[c[2]]\n",
    "        X = X.values\n",
    "    elif length == 4:\n",
    "        X['1'] = X_I[c[0]]\n",
    "        X['2'] = X_I[c[1]]\n",
    "        X['3'] = X_I[c[2]]\n",
    "        X['4'] = X_I[c[3]]\n",
    "        X = X.values\n",
    "        #print(X)\n",
    "    elif length == 5:\n",
    "        X['1'] = X_I[c[0]]\n",
    "        X['2'] = X_I[c[1]]\n",
    "        X['3'] = X_I[c[2]]\n",
    "        X['4'] = X_I[c[3]]\n",
    "        X['5'] = X_I[c[4]]\n",
    "        X = X.values\n",
    "        #print(X)\n",
    "        \n",
    "    beta = np.dot(np.linalg.inv(np.dot(X.T , X)) , np.dot(X.T , Y))\n",
    "    residual = Y - np.dot(X, beta)\n",
    "    R_squared = 1 - np.dot(residual.T, residual) / np.sum((Y - np.mean(Y))**2)\n",
    "    R_bar_squared = 1 - ((n-1)/(n-length-1) * (1-R_squared))\n",
    "    print(\"Coeffcient of determination: \", R_squared)\n",
    "    print(\"Corrected Coeffcient of determination\", R_bar_squared)"
   ]
  }
 ],
 "metadata": {
  "celltoolbar": "Slideshow",
  "kernelspec": {
   "display_name": "Python 3",
   "language": "python",
   "name": "python3"
  },
  "language_info": {
   "codemirror_mode": {
    "name": "ipython",
    "version": 3
   },
   "file_extension": ".py",
   "mimetype": "text/x-python",
   "name": "python",
   "nbconvert_exporter": "python",
   "pygments_lexer": "ipython3",
   "version": "3.8.8"
  }
 },
 "nbformat": 4,
 "nbformat_minor": 5
}
