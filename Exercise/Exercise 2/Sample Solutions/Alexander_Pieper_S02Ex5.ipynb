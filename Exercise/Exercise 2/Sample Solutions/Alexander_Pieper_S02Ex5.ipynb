{
 "cells": [
  {
   "cell_type": "markdown",
   "metadata": {},
   "source": [
    "## Exercise 5\n",
    "Suppose that you are running an advertising agency and interested in strategic result- oriented marketing by placing one of the 10 different advertisements at once to one user. The reward is 1 if the ad is clicked by the user, and 0 if not. Assume that the dataset ’Ads.csv’ provided on Moodle is the underlying rewards."
   ]
  },
  {
   "cell_type": "code",
   "execution_count": 1,
   "metadata": {},
   "outputs": [],
   "source": [
    "import pandas as pd\n",
    "import numpy as np\n",
    "import random\n",
    "import matplotlib.pyplot as plt\n",
    "random.seed(22)\n",
    "%matplotlib inline"
   ]
  },
  {
   "cell_type": "code",
   "execution_count": 2,
   "metadata": {},
   "outputs": [
    {
     "name": "stdout",
     "output_type": "stream",
     "text": [
      "      Ad 1  Ad 2  Ad 3  Ad 4  Ad 5  Ad 6  Ad 7  Ad 8  Ad 9  Ad 10\n",
      "0        1     0     0     0     1     0     0     0     1      0\n",
      "1        0     0     0     0     0     0     0     0     1      0\n",
      "2        0     0     0     0     0     0     0     0     0      0\n",
      "3        0     1     0     0     0     0     0     1     0      0\n",
      "4        0     0     0     0     0     0     0     0     0      0\n",
      "...    ...   ...   ...   ...   ...   ...   ...   ...   ...    ...\n",
      "9995     0     0     1     0     0     0     0     1     0      0\n",
      "9996     0     0     0     0     0     0     0     0     0      0\n",
      "9997     0     0     0     0     0     0     0     0     0      0\n",
      "9998     1     0     0     0     0     0     0     1     0      0\n",
      "9999     0     1     0     0     0     0     0     0     0      0\n",
      "\n",
      "[10000 rows x 10 columns]\n"
     ]
    }
   ],
   "source": [
    "# load in the data and printing it, to get a grasp\n",
    "data = pd.read_csv('Ads.csv')\n",
    "print(data)"
   ]
  },
  {
   "cell_type": "markdown",
   "metadata": {},
   "source": [
    "### 1. Visualize the rewards distribution, i.e. the number of being clicked by a user across all the advertisements. What do you observe?"
   ]
  },
  {
   "cell_type": "code",
   "execution_count": 3,
   "metadata": {},
   "outputs": [
    {
     "data": {
      "image/png": "[encoded data removed]",
      "text/plain": [
       "<Figure size 720x432 with 2 Axes>"
      ]
     },
     "metadata": {
      "needs_background": "light"
     },
     "output_type": "display_data"
    }
   ],
   "source": [
    "fig, ax = plt.subplots(2,1, figsize = (10,6))\n",
    "ax[0].bar(data.sum(axis = 0).index, data.sum(axis = 0))\n",
    "ax[1].bar(data.sum(axis = 0).sort_values().index, data.sum(axis = 0).sort_values())\n",
    "fig.tight_layout()\n"
   ]
  },
  {
   "cell_type": "markdown",
   "metadata": {},
   "source": [
    "Looking at the total conversions of the Ads, I realise that some Ads are rarely beeing clicked on (i.e. Ad 6 & Ad 10), while some other Ads have a relatively high conversion (i.e. Ad 5 and Ad 8).\n",
    "\n",
    "Furthermore I noticed that every Ad can be modelled with the Binomial Distribution, as it is a sum of Bernoulli Experiments.\n",
    "\n",
    "Considering the sorted final conversions (bottom plot), the 10 different Ads seem to be normal or even t-distributed (due to rather large tails). One problem with that, is that values below 0 would have to be excluded. "
   ]
  },
  {
   "cell_type": "markdown",
   "metadata": {},
   "source": [
    "### 2. Implement Thompson sampling algorithm to maximize the cumulative rewards. Compute the total rewards you could achieve."
   ]
  },
  {
   "cell_type": "code",
   "execution_count": 4,
   "metadata": {},
   "outputs": [
    {
     "name": "stdout",
     "output_type": "stream",
     "text": [
      "Out of the 10000 possibile ad conversions, we had 2690 successful ones\n"
     ]
    }
   ],
   "source": [
    "\n",
    "# initialising the parameters for the beta distributions: (starting with a = b = 1, for all 10 Ads)\n",
    "ad_parameters = {ad:{'a':1, 'b':1} for ad in data.columns.tolist()}\n",
    "# this will be the number of wins, which starts at 0\n",
    "wins = 0\n",
    "for index, row in data.iterrows():\n",
    "    expected_values = {}\n",
    "    # initialization: first time choose randomly\n",
    "    if index == 0:\n",
    "        chosen_ad = random.choice(list(ad_parameters.keys()))\n",
    "    # calculate the expected value of each of the 10 beta distribution/ads\n",
    "    else:\n",
    "        for ad in data.columns.tolist():\n",
    "            # Expected value of beta distribution: a/(a+b) or (number of wins/number of games)\n",
    "            expected_values[ad] = ad_parameters[ad]['a'] / (ad_parameters[ad]['a'] + ad_parameters[ad]['b'])\n",
    "        # take the ad, that has the highest expected value across all ads\n",
    "        chosen_ad = max(expected_values, key=lambda key: expected_values[key])\n",
    "\n",
    "    # book as win, if the chosen ad is klicked\n",
    "    if row[chosen_ad] == 1:\n",
    "        wins += 1\n",
    "\n",
    "    # update the parameters (when its a win, increment 'a', when its a loss increment 'b')\n",
    "    for ads in data.columns.tolist():\n",
    "        if row[ads] == 1:\n",
    "            ad_parameters[ads]['a'] += 1\n",
    "        else:\n",
    "            ad_parameters[ads]['b'] += 1\n",
    "\n",
    "\n",
    "print(f'Out of the 10000 possibile ad conversions, we had {wins} successful ones')  \n"
   ]
  },
  {
   "cell_type": "code",
   "execution_count": 5,
   "metadata": {},
   "outputs": [
    {
     "name": "stdout",
     "output_type": "stream",
     "text": [
      "Ad 6      126\n",
      "Ad 10     489\n",
      "Ad 3      728\n",
      "Ad 9      952\n",
      "Ad 7     1112\n",
      "Ad 4     1196\n",
      "Ad 2     1295\n",
      "Ad 1     1703\n",
      "Ad 8     2091\n",
      "Ad 5     2695\n",
      "dtype: int64\n"
     ]
    }
   ],
   "source": [
    "print(data.sum().sort_values())"
   ]
  },
  {
   "cell_type": "markdown",
   "metadata": {},
   "source": [
    "Using Thompson sampling, we seem to have a very good strategy, as we have 2690 successful conversions. When we look at the conversion rate of each Ad, we see that the highest converting ad (Ad 5) had 2695, so only 5 more conversions than we did.\n",
    "\n",
    "And all this, while not knowing from the beginning which Ad would perform the best."
   ]
  },
  {
   "cell_type": "markdown",
   "metadata": {},
   "source": [
    "### 3. Implement a function that computes the expected regret using the formula discussed in Lecture 4. Compute the regret."
   ]
  },
  {
   "cell_type": "markdown",
   "metadata": {},
   "source": [
    "The optimal ad is Ad 5, as it yields the highest returns, $a* = $ Ad 5 \n",
    "\n",
    "Computing the function that calculates the regret(T) will use the base code of the Thomson Sampling above."
   ]
  },
  {
   "cell_type": "code",
   "execution_count": 6,
   "metadata": {},
   "outputs": [],
   "source": [
    "\n",
    "def regret(T = 10000, use_thomson_sampling = True):\n",
    "    random.seed(22)\n",
    "    # defining the optimal Ad\n",
    "    opt_ad = 'Ad 5'\n",
    "    regrets = []\n",
    "    # initialising the parameters for the beta distributions: (starting with a = b = 1, for all 10 Ads)\n",
    "    ad_parameters = {ad:{'a':1, 'b':1} for ad in data.columns.tolist()}\n",
    "\n",
    "    # iterating through the dataset: (only T rows, if T is defined)\n",
    "    for index, row in data[:T].iterrows():\n",
    "        expected_values = {}\n",
    "        # choosing the ad, either random, or based on thomson sampling\n",
    "        if use_thomson_sampling:\n",
    "            if index == 0:\n",
    "                chosen_ad = random.choice(list(ad_parameters.keys()))\n",
    "            # calculate the expected value of each of the 10 beta distribution\n",
    "            else:\n",
    "                for ad in data.columns.tolist():\n",
    "                    expected_values[ad] = ad_parameters[ad]['a'] / (ad_parameters[ad]['a'] + ad_parameters[ad]['b'])\n",
    "                # take the ad, that has the highest expected value across all ads\n",
    "                chosen_ad = max(expected_values, key=lambda key: expected_values[key])\n",
    "            # update the parameters (when its a win, increment 'a', when its a loss increment 'b')\n",
    "            for ads in data.columns.tolist():\n",
    "                if row[ads] == 1:\n",
    "                    ad_parameters[ads]['a'] += 1\n",
    "                else:\n",
    "                    ad_parameters[ads]['b'] += 1\n",
    "        else:\n",
    "            chosen_ad = random.choice(list(ad_parameters.keys()))\n",
    "\n",
    "        # calculate the regret of this step (give good intuition of regret)\n",
    "        if (row[chosen_ad] == 1) & (row[opt_ad] == 1):\n",
    "            regrets.append(0)\n",
    "        elif(row[chosen_ad] == 1) & (row[opt_ad] == 0):\n",
    "            regrets.append(-1)\n",
    "        elif(row[chosen_ad] == 0) & (row[opt_ad] == 1):\n",
    "            regrets.append(1)\n",
    "        else:\n",
    "            regrets.append(0)\n",
    "        \n",
    "        # The following does the same: (formula mathes the mathematical expression more)\n",
    "        # regrets.append(row[opt_ad] - row[chosen_ad])\n",
    "\n",
    "    # return the cumulative sum over the regrets\n",
    "    return np.cumsum(regrets)"
   ]
  },
  {
   "cell_type": "markdown",
   "metadata": {},
   "source": [
    "This function takes the 'Time' T as parameter as well as a boolean parameter, indicating whether to use Thomson sampling or not.\n",
    "\n",
    "It returns the cumulative timseries of the regrets, i.e. $\\{Regret(t)|t \\in \\{1,\\ldots, T\\}\\}$"
   ]
  },
  {
   "cell_type": "code",
   "execution_count": 7,
   "metadata": {},
   "outputs": [
    {
     "data": {
      "image/png": "[encoded data removed]",
      "text/plain": [
       "<Figure size 864x504 with 2 Axes>"
      ]
     },
     "metadata": {
      "needs_background": "light"
     },
     "output_type": "display_data"
    }
   ],
   "source": [
    "fig, ax = plt.subplots(2,1,figsize = (12,7))\n",
    "ax[0].plot(regret(T = 300, use_thomson_sampling = True), label = 'Thomson sampling regret')\n",
    "ax[0].plot(regret(T = 300, use_thomson_sampling = False), label = 'Random choosing regret')\n",
    "ax[0].legend()\n",
    "\n",
    "ax[1].plot(regret(T = 10000, use_thomson_sampling = True), label = 'Thomson sampling regret')\n",
    "ax[1].plot(regret(T = 10000, use_thomson_sampling = False), label = 'Random choosing regret')\n",
    "ax[1].legend()\n",
    "plt.show()"
   ]
  },
  {
   "cell_type": "markdown",
   "metadata": {},
   "source": [
    "In this plot we can see, that the regret of Thomson Sampling after ~50 steps is constant at 5. This means, that after about 50 steps, this method identified the optimal Advertisement.\n",
    "\n",
    "When choosing the Ads randomly every time, the regret grows linearly.\n"
   ]
  }
 ],
 "metadata": {
  "interpreter": {
   "hash": "aee8b7b246df8f9039afb4144a1f6fd8d2ca17a180786b69acc140d282b71a49"
  },
  "kernelspec": {
   "display_name": "Python 3",
   "language": "python",
   "name": "python3"
  },
  "language_info": {
   "codemirror_mode": {
    "name": "ipython",
    "version": 3
   },
   "file_extension": ".py",
   "mimetype": "text/x-python",
   "name": "python",
   "nbconvert_exporter": "python",
   "pygments_lexer": "ipython3",
   "version": "3.8.5"
  }
 },
 "nbformat": 4,
 "nbformat_minor": 2
}
