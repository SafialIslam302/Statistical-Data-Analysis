{
 "cells": [
  {
   "cell_type": "markdown",
   "id": "c17696fe",
   "metadata": {},
   "source": [
    "# Exercise 4 \n",
    "Juliane Harnisch - jharnisch@uni-potsdam.de"
   ]
  },
  {
   "cell_type": "markdown",
   "id": "4570a9ee",
   "metadata": {},
   "source": [
    "### Part 1 (Generate samples)"
   ]
  },
  {
   "cell_type": "code",
   "execution_count": 1,
   "id": "5ce159ad",
   "metadata": {},
   "outputs": [],
   "source": [
    "import numpy as np\n",
    "import random\n",
    "\n",
    "np.random.seed(1)\n",
    "\n",
    "mean = 170\n",
    "variance = 16\n",
    "standev = 4\n",
    "# sample of size=10000 from normal distribution with mean=loc=170 and standard deviation=scale=4\n",
    "# reference: https://numpy.org/doc/stable/reference/random/generated/numpy.random.normal.html\n",
    "population = np.random.normal(loc=mean, scale=standev, size=10000)"
   ]
  },
  {
   "cell_type": "markdown",
   "id": "76cf8d4a",
   "metadata": {},
   "source": [
    "### Part 2 (Estimate mean, variance and standard deviation)"
   ]
  },
  {
   "cell_type": "code",
   "execution_count": 2,
   "id": "39da0294",
   "metadata": {},
   "outputs": [
    {
     "name": "stdout",
     "output_type": "stream",
     "text": [
      "\t\t mean \t\t variance \t standard deviation \n",
      " empirical\t 168.59 \t 12.62 \t\t 3.55 \n",
      " real\t \t 170 \t\t 16 \t\t 4\n"
     ]
    }
   ],
   "source": [
    "# 50 random samples taken from population\n",
    "# reference: https://note.nkmk.me/en/python-random-choice-sample-choices/\n",
    "sampleset = random.sample(list(population),50)\n",
    "\n",
    "\n",
    "# computing the empirical mean as defined in the lecture\n",
    "def empirical_mean(sample):\n",
    "    n = len(sample)\n",
    "    return(sum(sample)/n)\n",
    "\n",
    "mu = empirical_mean(sampleset)\n",
    "\n",
    "\n",
    "# computing the empirical variance as defined in the lecture\n",
    "def empirical_variance(sample):\n",
    "    n = len(sample)\n",
    "    return(sum((sample-empirical_mean(sample))**2)/(n-1))\n",
    "\n",
    "sigma2 = empirical_variance(sampleset)\n",
    "\n",
    "\n",
    "# computing the ecmpirical standard deviation S_n (biased, as shown in Exercise 2)\n",
    "def empirical_sd(sample):\n",
    "    return(np.sqrt(empirical_variance(sample)))\n",
    "\n",
    "sigma = empirical_sd(sampleset)\n",
    "\n",
    "# printing the computed values against the real values\n",
    "print('\\t\\t mean \\t\\t variance \\t standard deviation \\n empirical\\t %.2f \\t %.2f \\t\\t %.2f \\n real\\t \\t %d \\t\\t %d \\t\\t %d' %(mu, sigma2, sigma, mean, variance, standev))"
   ]
  },
  {
   "cell_type": "code",
   "execution_count": 3,
   "id": "9f92c9ef",
   "metadata": {},
   "outputs": [
    {
     "name": "stdout",
     "output_type": "stream",
     "text": [
      "average empirical mean: \t 170.03\n",
      "average empirical variance: \t 16.18\n",
      "average empirical stand. dev.: \t 4.00\n"
     ]
    }
   ],
   "source": [
    "# computing the average estimations in 1000 samples of size 50\n",
    "its = 1000\n",
    "av_mu = 0\n",
    "av_sigma2 = 0\n",
    "av_sigma = 0\n",
    "\n",
    "for i in range(its):\n",
    "    sampleset = random.sample(list(population),50)\n",
    "    av_mu += empirical_mean(sampleset)\n",
    "    av_sigma2 += empirical_variance(sampleset)\n",
    "    av_sigma += empirical_sd(sampleset)\n",
    "    \n",
    "av_mu = av_mu / its\n",
    "av_sigma2 = av_sigma2 / its\n",
    "av_sigma = av_sigma / its\n",
    "\n",
    "print('average empirical mean: \\t %.2f' %av_mu)\n",
    "print('average empirical variance: \\t %.2f' %av_sigma2)\n",
    "print('average empirical stand. dev.: \\t %.2f' %av_sigma)"
   ]
  },
  {
   "cell_type": "code",
   "execution_count": 4,
   "id": "b3216107",
   "metadata": {},
   "outputs": [
    {
     "name": "stdout",
     "output_type": "stream",
     "text": [
      "average empirical mean/real mean: \t\t 1.000151\n",
      "average empirical variance/real variance: \t 1.011265\n",
      "average empirical stand. dev./real stand. dev.:  1.000236\n"
     ]
    }
   ],
   "source": [
    "# computing the ratios of average estimations to real values\n",
    "print('average empirical mean/real mean: \\t\\t %.6f' %(av_mu/mean))\n",
    "print('average empirical variance/real variance: \\t %.6f' %(av_sigma2/variance))\n",
    "print('average empirical stand. dev./real stand. dev.:  %.6f' %(av_sigma/standev))"
   ]
  },
  {
   "cell_type": "markdown",
   "id": "74daddbc",
   "metadata": {},
   "source": [
    "We know from lecture and problem sheet 2 exercise 2, that the empirical mean $\\overline{X_n} = \\frac{1}{n} \\sum_{i=1}^{n}X_i$ and the empirical variance $S_n^2 = \\frac{1}{n-1} \\sum_{i=1}^{n}(X_i-\\overline{X_n})^2$ are unbiased estimators, while the empirical standard deviation $S_n = \\sqrt{\\frac{1}{n-1} \\sum_{i=1}^{n}(X_i-\\overline{X_n})^2}$ is a biased estimator.\n",
    "\n",
    "Computing these values for 50 random samples, the empirical values do not hit the acual values due to the small sample size. But if we compute the average estimations for 1000 different sets of 50 random samples, we get a better idea of how close the estimators get to the real values and therefore if they are unbiased or biased. \n",
    "With this computation, the estimations are much closer to the real values, but this is also true for the emp. standard deviation, that is biased. I think that this is because the real value of the standard deviation is a bit smaller than the values for the variance and mean, so I also considered the ratio between the average estimated values and the real ones. There we can see, that for all runs, the ratio of the standard deviation is the smallest."
   ]
  },
  {
   "cell_type": "markdown",
   "id": "c9ad30d7",
   "metadata": {},
   "source": [
    "### Part 3 (Determine median and order statistic)"
   ]
  },
  {
   "cell_type": "code",
   "execution_count": 5,
   "id": "10b23d34",
   "metadata": {},
   "outputs": [
    {
     "name": "stdout",
     "output_type": "stream",
     "text": [
      "median: 169.5007 \n",
      "\n",
      "31th order statistic: 171.1233\n"
     ]
    }
   ],
   "source": [
    "# ordering the samples\n",
    "sampleset_ord = sorted(sampleset)\n",
    "\n",
    "# computing the median\n",
    "def med(sample):\n",
    "    n = len(sample)\n",
    "    sort = sorted(sample) # sorting the sample\n",
    "    # definition from the lecture\n",
    "    if n%2==0:   # for even sample length\n",
    "        return(0.5*(sort[n//2-1]+sort[n//2])) # shifted with -1 since we start counting from 0\n",
    "    else:        # for uneven sample length\n",
    "        return(sort[n//2])\n",
    "    \n",
    "median = med(sampleset)\n",
    "print(\"median: %.4f \\n\" %(median))\n",
    "\n",
    "# 31th order statistic\n",
    "print(\"31th order statistic: %.4f\" %(sampleset_ord[30])) # position 30 since we start with 0\n"
   ]
  },
  {
   "cell_type": "markdown",
   "id": "fed54145",
   "metadata": {},
   "source": [
    "### Part 4 (Determine truncated mean)"
   ]
  },
  {
   "cell_type": "code",
   "execution_count": 6,
   "id": "0fe515a0",
   "metadata": {},
   "outputs": [
    {
     "name": "stdout",
     "output_type": "stream",
     "text": [
      "truncated mean for k=10: 169.69 \n",
      "\n",
      "equality of truncated mean and median found for k=24\n"
     ]
    }
   ],
   "source": [
    "# determine the truncated mean for some k\n",
    "def truncmean(sample, k):\n",
    "    n = len(sample)\n",
    "    sort = sorted(sample) # ordering the sample\n",
    "    # definition from the lecture\n",
    "    return(float(1)/(n-2*k)*sum(sort[k:n-k])) # sum goes from k+1 to n-k (counting the sample from 1 to n)\n",
    "\n",
    "# choosing k=1,...,24\n",
    "k = 10\n",
    "print(\"truncated mean for k=%d: %3.2f \\n\" %(k,truncmean(sampleset, k)))\n",
    "\n",
    "# checking if truncated mean = median for some k\n",
    "for k in range(1,25):\n",
    "    if truncmean(sampleset,k) == med(sampleset): \n",
    "        print(\"equality of truncated mean and median found for k=%d\" %(k))"
   ]
  },
  {
   "cell_type": "markdown",
   "id": "0cf3c1fe",
   "metadata": {},
   "source": [
    "The truncated mean for $k=24$ ist equal to the median. This is to be expected, since we have an even sample size of $50$ and therefore the median is computed as the average of the 25th and the 26th order statistics. The truncated mean for $k=24$ is also computed as the average of the 25th and the 26th order statistics, so they are equal.\n",
    "This is true for all samples of even length $n$ and for the truncated mean for $k=\\frac{n}{2}-1$."
   ]
  }
 ],
 "metadata": {
  "kernelspec": {
   "display_name": "Python 3",
   "language": "python",
   "name": "python3"
  },
  "language_info": {
   "codemirror_mode": {
    "name": "ipython",
    "version": 3
   },
   "file_extension": ".py",
   "mimetype": "text/x-python",
   "name": "python",
   "nbconvert_exporter": "python",
   "pygments_lexer": "ipython3",
   "version": "3.8.8"
  }
 },
 "nbformat": 4,
 "nbformat_minor": 5
}
