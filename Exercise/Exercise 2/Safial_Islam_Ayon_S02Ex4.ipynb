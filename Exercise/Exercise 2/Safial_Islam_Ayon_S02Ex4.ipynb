{
 "cells": [
  {
   "cell_type": "markdown",
   "id": "81a3b49d",
   "metadata": {},
   "source": [
    "# Exercise 4"
   ]
  },
  {
   "cell_type": "markdown",
   "id": "bfa49e51",
   "metadata": {},
   "source": [
    "# Problem 4.1"
   ]
  },
  {
   "cell_type": "code",
   "execution_count": 7,
   "id": "99b96d32",
   "metadata": {},
   "outputs": [],
   "source": [
    "from random import seed\n",
    "from random import randint\n",
    "\n",
    "# seed random number generator\n",
    "seed(1)\n",
    "\n",
    "# create a 10000 size empty list\n",
    "value = [None] * 10000\n",
    "\n",
    "# generate random integers\n",
    "for k in range(10000):\n",
    "    value[k] = randint(16, 170)\n",
    "    #print(value)\n"
   ]
  },
  {
   "cell_type": "markdown",
   "id": "aa384fb5",
   "metadata": {},
   "source": [
    "# Problem 4.2"
   ]
  },
  {
   "cell_type": "code",
   "execution_count": 8,
   "id": "1c3222c2",
   "metadata": {},
   "outputs": [
    {
     "name": "stdout",
     "output_type": "stream",
     "text": [
      "Mean of the population is: 85.04\n",
      "Variance of the population is:  1634.76\n",
      "Standard Deviation of the population is:  40.84\n"
     ]
    }
   ],
   "source": [
    "from random import choice\n",
    "from statistics import mean\n",
    "import numpy as np\n",
    "import statistics\n",
    "\n",
    "# create a 50 size empty list\n",
    "selection = [None] * 50\n",
    "\n",
    "# take 50 random samples from the population\n",
    "for k in range(50):\n",
    "    selection[k] = choice(value)\n",
    "    \n",
    "# calcualte mean\n",
    "mean_population = mean(selection)\n",
    "print(\"Mean of the population is:\", mean_population)\n",
    "#Sample mean is an unbiased estimator of the population mean.\n",
    "\n",
    "# calcualte variance\n",
    "variance_population = np.var(selection)\n",
    "print(\"Variance of the population is: \", \"%.2f\" % round(variance_population, 2))\n",
    "#Sample variance is an unbiased estimator of the population variance.\n",
    "\n",
    "# calcualte standard deviation\n",
    "standard_deviation = statistics.stdev(selection)\n",
    "print(\"Standard Deviation of the population is: \", \"%.2f\" % round(standard_deviation, 2))\n",
    "#Standard variance is a biased estimator of the population standard variance."
   ]
  },
  {
   "cell_type": "markdown",
   "id": "2f4b9882",
   "metadata": {},
   "source": [
    "# Problem 4.3"
   ]
  },
  {
   "cell_type": "code",
   "execution_count": 9,
   "id": "31abaad3",
   "metadata": {},
   "outputs": [],
   "source": [
    "def my_median(sample):\n",
    "    n = len(sample)\n",
    "    index = n\n",
    "    \n",
    "    # Sample with an odd number of observations\n",
    "    if n % 2:\n",
    "        return sorted(sample)[index]\n",
    "    \n",
    "    # Sample with an even number of observations\n",
    "    return sum(sorted(sample)[index - 1:index + 1]) / 2"
   ]
  },
  {
   "cell_type": "code",
   "execution_count": 10,
   "id": "056587b7",
   "metadata": {},
   "outputs": [
    {
     "name": "stdout",
     "output_type": "stream",
     "text": [
      "Median of the population is:  84.00\n"
     ]
    }
   ],
   "source": [
    "median_population = my_median(selection)\n",
    "print(\"Median of the population is: \", \"%.2f\" % round(median_population, 2))"
   ]
  },
  {
   "cell_type": "code",
   "execution_count": 14,
   "id": "b52a4665",
   "metadata": {},
   "outputs": [
    {
     "name": "stdout",
     "output_type": "stream",
     "text": [
      "The 31-th order statistic is: 94\n"
     ]
    }
   ],
   "source": [
    "# import numpy as np\n",
    "\n",
    "k = 30\n",
    "print('The 31-th order statistic is:', np.partition(np.asarray(selection), k)[k])"
   ]
  },
  {
   "cell_type": "markdown",
   "id": "184a0020",
   "metadata": {},
   "source": [
    "# Problem 4.3"
   ]
  },
  {
   "cell_type": "code",
   "execution_count": 12,
   "id": "621181de",
   "metadata": {},
   "outputs": [
    {
     "name": "stdout",
     "output_type": "stream",
     "text": [
      "Truncated mean for i is:  83.15\n",
      "Truncated mean for i is:  81.07\n",
      "Truncated mean for i is:  79.25\n",
      "Truncated mean for i is:  77.90\n",
      "Truncated mean for i is:  nan\n"
     ]
    }
   ],
   "source": [
    "from scipy import stats\n",
    "\n",
    "truncated_mean = [None] * 10\n",
    "\n",
    "k_range = [0.1, 0.2, 0.3, 0.4, 0.5]\n",
    "\n",
    "for i in k_range:\n",
    "    truncated_mean = stats.trim_mean(selection, i)\n",
    "    print(\"Truncated mean for i is: \", \"%.2f\" % round(truncated_mean, 2))\n",
    "          \n",
    "    if(truncated_mean == median_population):\n",
    "          print(\"Mean and Median are Same.\")\n",
    "    #In a perfectly symmetrical distribution, the mean and the median are the same [1].\n",
    "    #[1] https://courses.lumenlearning.com/introstats1/chapter/skewness-and-the-mean-median-and-mode/\n",
    "\n"
   ]
  }
 ],
 "metadata": {
  "celltoolbar": "Slideshow",
  "kernelspec": {
   "display_name": "Python 3",
   "language": "python",
   "name": "python3"
  },
  "language_info": {
   "codemirror_mode": {
    "name": "ipython",
    "version": 3
   },
   "file_extension": ".py",
   "mimetype": "text/x-python",
   "name": "python",
   "nbconvert_exporter": "python",
   "pygments_lexer": "ipython3",
   "version": "3.8.8"
  }
 },
 "nbformat": 4,
 "nbformat_minor": 5
}
