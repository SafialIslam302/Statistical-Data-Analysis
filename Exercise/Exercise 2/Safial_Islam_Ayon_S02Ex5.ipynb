{
 "cells": [
  {
   "cell_type": "markdown",
   "id": "81a3b49d",
   "metadata": {},
   "source": [
    "# Exercise 5"
   ]
  },
  {
   "cell_type": "markdown",
   "id": "bfa49e51",
   "metadata": {},
   "source": [
    "# Problem 5.1"
   ]
  },
  {
   "cell_type": "code",
   "execution_count": 36,
   "id": "a173dde9",
   "metadata": {},
   "outputs": [],
   "source": [
    "import pandas as pd\n",
    "import seaborn as sns\n",
    "import matplotlib.pyplot as plt\n",
    "\n",
    "file = pd.read_csv('Ads.csv') "
   ]
  },
  {
   "cell_type": "code",
   "execution_count": 37,
   "id": "a8eaca7a",
   "metadata": {},
   "outputs": [
    {
     "data": {
      "image/png": "[encoded data removed]",
      "text/plain": [
       "<Figure size 864x720 with 10 Axes>"
      ]
     },
     "metadata": {
      "needs_background": "light"
     },
     "output_type": "display_data"
    }
   ],
   "source": [
    "fig, ax = file.plot.hist(subplots=True, layout=(2,5), figsize=(12, 10), bins=20)\n",
    "\n",
    "plt.subplots_adjust(left=0.1,\n",
    "                    bottom=0.1, \n",
    "                    right=0.9, \n",
    "                    top=0.9, \n",
    "                    wspace=0.8, \n",
    "                    hspace=0.3)\n",
    "plt.show()\n",
    "\n",
    "#The frequency of data is shown using a histogram. \n",
    "#In a histogram, the higher the bar, the more common it is in the observed data [1].\n",
    "#It is evident, even without any statistical study, that \"Ad 6\" is most clicked and \"Ad 5\" clicked least.  \n",
    "#[1] https://towardsdatascience.com/distribution-visualization-101-with-python-a12d481afec7"
   ]
  },
  {
   "cell_type": "markdown",
   "id": "5e7aebb8",
   "metadata": {},
   "source": [
    "# Problem 5.2"
   ]
  },
  {
   "cell_type": "code",
   "execution_count": 38,
   "id": "c3cbf79b",
   "metadata": {},
   "outputs": [
    {
     "name": "stdout",
     "output_type": "stream",
     "text": [
      "Total reward :  2608\n"
     ]
    }
   ],
   "source": [
    "import numpy as np\n",
    "import matplotlib.pyplot as plt\n",
    "import pandas as pd\n",
    "import random\n",
    "\n",
    "dataset = pd.read_csv('Ads.csv') \n",
    "\n",
    "N = 10000\n",
    "d = 10\n",
    "\n",
    "ads_selected = []\n",
    "numbers_of_rewards_1 = [0] * d\n",
    "numbers_of_rewards_0 = [0] * d\n",
    "\n",
    "total_reward = 0\n",
    "\n",
    "for n in range(0, N):\n",
    "    ad = 0\n",
    "    max_random = 0\n",
    "    \n",
    "    for i in range(0, d):\n",
    "        random_beta = random.betavariate(numbers_of_rewards_1[i] + 1, numbers_of_rewards_0[i] + 1)\n",
    "        if random_beta > max_random:\n",
    "            max_random = random_beta\n",
    "            ad = i\n",
    "            \n",
    "    ads_selected.append(ad)\n",
    "    reward = dataset.values[n, ad]\n",
    "    \n",
    "    if reward == 1:\n",
    "        numbers_of_rewards_1[ad] = numbers_of_rewards_1[ad] + 1\n",
    "    else:\n",
    "        numbers_of_rewards_0[ad] = numbers_of_rewards_0[ad] + 1\n",
    "    total_reward = total_reward + reward\n",
    "    \n",
    "print(\"Total reward : \", total_reward)"
   ]
  },
  {
   "cell_type": "markdown",
   "id": "d58d0711",
   "metadata": {},
   "source": [
    "# Problem 5.3"
   ]
  },
  {
   "cell_type": "code",
   "execution_count": 39,
   "id": "4c974d1e",
   "metadata": {},
   "outputs": [
    {
     "data": {
      "text/html": [
       "        <script type=\"text/javascript\">\n",
       "        window.PlotlyConfig = {MathJaxConfig: 'local'};\n",
       "        if (window.MathJax) {MathJax.Hub.Config({SVG: {font: \"STIX-Web\"}});}\n",
       "        if (typeof require !== 'undefined') {\n",
       "        require.undef(\"plotly\");\n",
       "        requirejs.config({\n",
       "            paths: {\n",
       "                'plotly': ['https://cdn.plot.ly/plotly-2.4.2.min']\n",
       "            }\n",
       "        });\n",
       "        require(['plotly'], function(Plotly) {\n",
       "            window._Plotly = Plotly;\n",
       "        });\n",
       "        }\n",
       "        </script>\n",
       "        "
      ]
     },
     "metadata": {},
     "output_type": "display_data"
    }
   ],
   "source": [
    "import numpy as np\n",
    "import pandas as pd\n",
    "from scipy.stats import beta, bernoulli\n",
    "import random\n",
    "import math\n",
    "\n",
    "RANDOM_SEED = 123\n",
    "np.random.seed(RANDOM_SEED)\n",
    "init_notebook_mode(connected=True)"
   ]
  },
  {
   "cell_type": "code",
   "execution_count": 40,
   "id": "e5d996d2",
   "metadata": {},
   "outputs": [
    {
     "name": "stdout",
     "output_type": "stream",
     "text": [
      "Actual CTR for Ad #0 is: 0.45\n",
      "Actual CTR for Ad #1 is: 0.65\n"
     ]
    }
   ],
   "source": [
    "#assume that the actual CTR values for both Ads for simulation purposes are known.\n",
    "ACTUAL_CTR = [.45, .65]\n",
    "print('Actual CTR for Ad #0 is:', ACTUAL_CTR[0])\n",
    "print('Actual CTR for Ad #1 is:', ACTUAL_CTR[1])"
   ]
  },
  {
   "cell_type": "code",
   "execution_count": 41,
   "id": "a9d8f057",
   "metadata": {},
   "outputs": [
    {
     "name": "stdout",
     "output_type": "stream",
     "text": [
      "98.40000000000086\n"
     ]
    }
   ],
   "source": [
    "#For each alrorithm we will perform 1000 trials\n",
    "n = 1000\n",
    "\n",
    "regret = 0 \n",
    "ctr = {0: [], 1: []} #lists for collecting the calculated CTR \n",
    "index_list = [] #list for collecting the number of randomly choosen Ad\n",
    "\n",
    "#set the initial values for impressions and clicks \n",
    "impressions = [0,0] \n",
    "clicks = [0,0]\n",
    "\n",
    "for i in range(n):    \n",
    "    \n",
    "    random_index = np.random.randint(0,2,1)[0] #randomly choose the value between [0,1]\n",
    "    index_list.append(random_index) #add the value to list\n",
    "    \n",
    "    impressions[random_index] += 1 #add 1 impression value for the choosen Ad\n",
    "    did_click = bernoulli.rvs(ACTUAL_CTR[random_index]) #simulate if the person clicked on the ad usind Actual CTR value\n",
    "    \n",
    "    if did_click:\n",
    "        clicks[random_index] += did_click #if person clicked add 1 click value for the choosen Ad\n",
    "    \n",
    "    #calculate the CTR values and add them to list\n",
    "    if impressions[0] == 0:\n",
    "        ctr_0 = 0\n",
    "    else:\n",
    "        ctr_0 = clicks[0]/impressions[0]\n",
    "        \n",
    "    if impressions[1] == 0:\n",
    "        ctr_1 = 0\n",
    "    else:\n",
    "        ctr_1 = clicks[1]/impressions[1]\n",
    "        \n",
    "    ctr[0].append(ctr_0)\n",
    "    ctr[1].append(ctr_1)\n",
    "    \n",
    "    #calculate the regret\n",
    "    regret += max(ACTUAL_CTR) - ACTUAL_CTR[random_index] #here max(ACTUAL_CTR) is the true CTR for the best performing ad \n",
    "    #and ACTUAL_CTR[random_index] is the CTR of the ad chosen in the random_index trial.\n",
    "\n",
    "print(regret)"
   ]
  }
 ],
 "metadata": {
  "celltoolbar": "Slideshow",
  "kernelspec": {
   "display_name": "Python 3",
   "language": "python",
   "name": "python3"
  },
  "language_info": {
   "codemirror_mode": {
    "name": "ipython",
    "version": 3
   },
   "file_extension": ".py",
   "mimetype": "text/x-python",
   "name": "python",
   "nbconvert_exporter": "python",
   "pygments_lexer": "ipython3",
   "version": "3.8.8"
  }
 },
 "nbformat": 4,
 "nbformat_minor": 5
}
